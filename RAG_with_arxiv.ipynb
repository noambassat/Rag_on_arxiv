{
  "nbformat": 4,
  "nbformat_minor": 0,
  "metadata": {
    "colab": {
      "provenance": [],
      "authorship_tag": "ABX9TyPxyhItReAxzyKnhpb65hho",
      "include_colab_link": true
    },
    "kernelspec": {
      "name": "python3",
      "display_name": "Python 3"
    },
    "language_info": {
      "name": "python"
    }
  },
  "cells": [
    {
      "cell_type": "markdown",
      "metadata": {
        "id": "view-in-github",
        "colab_type": "text"
      },
      "source": [
        "<a href=\"https://colab.research.google.com/github/noambassat/Rag_on_arxiv/blob/main/RAG_with_arxiv.ipynb\" target=\"_parent\"><img src=\"https://colab.research.google.com/assets/colab-badge.svg\" alt=\"Open In Colab\"/></a>"
      ]
    },
    {
      "cell_type": "code",
      "source": [
        "from openai import OpenAI\n",
        "from google.colab import userdata\n",
        "import os\n",
        "from transformers import GPT2TokenizerFast"
      ],
      "metadata": {
        "id": "H1gaRL1_xEg5"
      },
      "execution_count": 149,
      "outputs": []
    },
    {
      "cell_type": "code",
      "execution_count": 150,
      "metadata": {
        "id": "c_PrAcFohQ_M"
      },
      "outputs": [],
      "source": [
        "import requests\n",
        "from bs4 import BeautifulSoup as bs\n",
        "from datetime import datetime, timedelta\n",
        "from tqdm import tqdm, trange\n",
        "import numpy as np\n",
        "import pandas as pd\n",
        "import re"
      ]
    },
    {
      "cell_type": "markdown",
      "source": [],
      "metadata": {
        "id": "tI7UPxtGoLbe"
      }
    },
    {
      "cell_type": "code",
      "source": [
        "open_ai_key=userdata.get('open_ai_key')\n",
        "os.environ['OPENAI_API_KEY'] = open_ai_key\n",
        "client = OpenAI()\n"
      ],
      "metadata": {
        "id": "L_RDjNMSySal"
      },
      "execution_count": 151,
      "outputs": []
    },
    {
      "cell_type": "code",
      "source": [
        "\"https://arxiv.org/list/cs.HC/\" + datetime(2025,3,26).strftime(\"%Y-%m\")"
      ],
      "metadata": {
        "colab": {
          "base_uri": "https://localhost:8080/",
          "height": 36
        },
        "id": "eJa-MHwEmPQQ",
        "outputId": "3a3da2f8-fb70-4377-c30a-45cc11642798"
      },
      "execution_count": 152,
      "outputs": [
        {
          "output_type": "execute_result",
          "data": {
            "text/plain": [
              "'https://arxiv.org/list/cs.HC/2025-03'"
            ],
            "application/vnd.google.colaboratory.intrinsic+json": {
              "type": "string"
            }
          },
          "metadata": {},
          "execution_count": 152
        }
      ]
    },
    {
      "cell_type": "code",
      "source": [],
      "metadata": {
        "id": "AGRK7MXDoaqc"
      },
      "execution_count": 152,
      "outputs": []
    },
    {
      "cell_type": "code",
      "source": [
        "def get_url(date):\n",
        "  path = \"https://arxiv.org/list/cs.HC/\" + date.strftime(\"%Y-%m\")\n",
        "  content = requests.get(path).text\n",
        "  return [a[\"href\"] for a in bs(content, \"html.parser\").find_all(\"a\",{\"title\":\"View HTML\"})]"
      ],
      "metadata": {
        "id": "rpVc28GhheQ-"
      },
      "execution_count": 153,
      "outputs": []
    },
    {
      "cell_type": "code",
      "source": [
        "# urls = sum([get_url(datetime(2025, 3, 26)-timedelta(days=i*30))\n",
        "#         for i in trange(5)],[])\n",
        "\n",
        "urls = get_url(datetime(2025, 3, 26))\n",
        "print(urls[0])"
      ],
      "metadata": {
        "colab": {
          "base_uri": "https://localhost:8080/"
        },
        "id": "mBdKhDhbo8P6",
        "outputId": "e00ce300-feaa-4965-e0e3-41eebd0feed3"
      },
      "execution_count": 154,
      "outputs": [
        {
          "output_type": "stream",
          "name": "stdout",
          "text": [
            "https://arxiv.org/html/2503.00144v1\n"
          ]
        }
      ]
    },
    {
      "cell_type": "code",
      "source": [
        "def get_article(url):\n",
        "    content = requests.get(url).text\n",
        "    article = bs(content, \"html.parser\").find(\"div\",{\"class\":\"ltx_page_content\"})\n",
        "    return [s.text for s in article.find_all(\"section\")]"
      ],
      "metadata": {
        "id": "7I9zmeBRra0h"
      },
      "execution_count": 155,
      "outputs": []
    },
    {
      "cell_type": "code",
      "source": [
        "articles = pd.DataFrame(\n",
        "    {\n",
        "        \"url\":urls,\n",
        "        \"article\":[get_article(url) for url in tqdm(urls)]\n",
        "    }\n",
        ")"
      ],
      "metadata": {
        "colab": {
          "base_uri": "https://localhost:8080/"
        },
        "id": "hqvUwIOGsuDF",
        "outputId": "b0111e20-0263-4301-ad68-48457dcc0c15"
      },
      "execution_count": 156,
      "outputs": [
        {
          "output_type": "stream",
          "name": "stderr",
          "text": [
            "100%|██████████| 47/47 [00:15<00:00,  2.95it/s]\n"
          ]
        }
      ]
    },
    {
      "cell_type": "code",
      "source": [
        "articles[\"article\"].isna().sum()"
      ],
      "metadata": {
        "colab": {
          "base_uri": "https://localhost:8080/"
        },
        "id": "I4wuys1ut9k3",
        "outputId": "badfc6b1-8a57-4396-c5d1-ac0e40317a9a"
      },
      "execution_count": 157,
      "outputs": [
        {
          "output_type": "execute_result",
          "data": {
            "text/plain": [
              "np.int64(0)"
            ]
          },
          "metadata": {},
          "execution_count": 157
        }
      ]
    },
    {
      "cell_type": "code",
      "source": [
        "articles.shape"
      ],
      "metadata": {
        "colab": {
          "base_uri": "https://localhost:8080/"
        },
        "id": "e0Vro78dwp3z",
        "outputId": "5d61c1e1-1a67-4a4e-babf-9ece177dfdab"
      },
      "execution_count": 158,
      "outputs": [
        {
          "output_type": "execute_result",
          "data": {
            "text/plain": [
              "(47, 2)"
            ]
          },
          "metadata": {},
          "execution_count": 158
        }
      ]
    },
    {
      "cell_type": "code",
      "source": [
        "articles.head()"
      ],
      "metadata": {
        "colab": {
          "base_uri": "https://localhost:8080/",
          "height": 206
        },
        "id": "42K6Zjzrvj62",
        "outputId": "bbf4094c-5bf4-4fa2-8049-014b8c23d9f3"
      },
      "execution_count": 159,
      "outputs": [
        {
          "output_type": "execute_result",
          "data": {
            "text/plain": [
              "                                   url  \\\n",
              "0  https://arxiv.org/html/2503.00144v1   \n",
              "1  https://arxiv.org/html/2503.00149v2   \n",
              "2  https://arxiv.org/html/2503.00228v1   \n",
              "3  https://arxiv.org/html/2503.00257v1   \n",
              "4  https://arxiv.org/html/2503.00303v1   \n",
              "\n",
              "                                             article  \n",
              "0  [\\n\\n1 Introduction\\n\\nProgramming is an impor...  \n",
              "1  [\\n\\n1. Introduction\\n\\nTactile charts are an ...  \n",
              "2  [\\n\\n1. Introduction\\n\\nSimilarity is a fundam...  \n",
              "3  [\\n\\n1. Introduction\\n\\nThe Japanese manga111M...  \n",
              "4  [\\n\\nI Introduction\\n\\n\\nThis document is a mo...  "
            ],
            "text/html": [
              "\n",
              "  <div id=\"df-9686c433-f5c1-482b-8f3c-8bd52a59657e\" class=\"colab-df-container\">\n",
              "    <div>\n",
              "<style scoped>\n",
              "    .dataframe tbody tr th:only-of-type {\n",
              "        vertical-align: middle;\n",
              "    }\n",
              "\n",
              "    .dataframe tbody tr th {\n",
              "        vertical-align: top;\n",
              "    }\n",
              "\n",
              "    .dataframe thead th {\n",
              "        text-align: right;\n",
              "    }\n",
              "</style>\n",
              "<table border=\"1\" class=\"dataframe\">\n",
              "  <thead>\n",
              "    <tr style=\"text-align: right;\">\n",
              "      <th></th>\n",
              "      <th>url</th>\n",
              "      <th>article</th>\n",
              "    </tr>\n",
              "  </thead>\n",
              "  <tbody>\n",
              "    <tr>\n",
              "      <th>0</th>\n",
              "      <td>https://arxiv.org/html/2503.00144v1</td>\n",
              "      <td>[\\n\\n1 Introduction\\n\\nProgramming is an impor...</td>\n",
              "    </tr>\n",
              "    <tr>\n",
              "      <th>1</th>\n",
              "      <td>https://arxiv.org/html/2503.00149v2</td>\n",
              "      <td>[\\n\\n1. Introduction\\n\\nTactile charts are an ...</td>\n",
              "    </tr>\n",
              "    <tr>\n",
              "      <th>2</th>\n",
              "      <td>https://arxiv.org/html/2503.00228v1</td>\n",
              "      <td>[\\n\\n1. Introduction\\n\\nSimilarity is a fundam...</td>\n",
              "    </tr>\n",
              "    <tr>\n",
              "      <th>3</th>\n",
              "      <td>https://arxiv.org/html/2503.00257v1</td>\n",
              "      <td>[\\n\\n1. Introduction\\n\\nThe Japanese manga111M...</td>\n",
              "    </tr>\n",
              "    <tr>\n",
              "      <th>4</th>\n",
              "      <td>https://arxiv.org/html/2503.00303v1</td>\n",
              "      <td>[\\n\\nI Introduction\\n\\n\\nThis document is a mo...</td>\n",
              "    </tr>\n",
              "  </tbody>\n",
              "</table>\n",
              "</div>\n",
              "    <div class=\"colab-df-buttons\">\n",
              "\n",
              "  <div class=\"colab-df-container\">\n",
              "    <button class=\"colab-df-convert\" onclick=\"convertToInteractive('df-9686c433-f5c1-482b-8f3c-8bd52a59657e')\"\n",
              "            title=\"Convert this dataframe to an interactive table.\"\n",
              "            style=\"display:none;\">\n",
              "\n",
              "  <svg xmlns=\"http://www.w3.org/2000/svg\" height=\"24px\" viewBox=\"0 -960 960 960\">\n",
              "    <path d=\"M120-120v-720h720v720H120Zm60-500h600v-160H180v160Zm220 220h160v-160H400v160Zm0 220h160v-160H400v160ZM180-400h160v-160H180v160Zm440 0h160v-160H620v160ZM180-180h160v-160H180v160Zm440 0h160v-160H620v160Z\"/>\n",
              "  </svg>\n",
              "    </button>\n",
              "\n",
              "  <style>\n",
              "    .colab-df-container {\n",
              "      display:flex;\n",
              "      gap: 12px;\n",
              "    }\n",
              "\n",
              "    .colab-df-convert {\n",
              "      background-color: #E8F0FE;\n",
              "      border: none;\n",
              "      border-radius: 50%;\n",
              "      cursor: pointer;\n",
              "      display: none;\n",
              "      fill: #1967D2;\n",
              "      height: 32px;\n",
              "      padding: 0 0 0 0;\n",
              "      width: 32px;\n",
              "    }\n",
              "\n",
              "    .colab-df-convert:hover {\n",
              "      background-color: #E2EBFA;\n",
              "      box-shadow: 0px 1px 2px rgba(60, 64, 67, 0.3), 0px 1px 3px 1px rgba(60, 64, 67, 0.15);\n",
              "      fill: #174EA6;\n",
              "    }\n",
              "\n",
              "    .colab-df-buttons div {\n",
              "      margin-bottom: 4px;\n",
              "    }\n",
              "\n",
              "    [theme=dark] .colab-df-convert {\n",
              "      background-color: #3B4455;\n",
              "      fill: #D2E3FC;\n",
              "    }\n",
              "\n",
              "    [theme=dark] .colab-df-convert:hover {\n",
              "      background-color: #434B5C;\n",
              "      box-shadow: 0px 1px 3px 1px rgba(0, 0, 0, 0.15);\n",
              "      filter: drop-shadow(0px 1px 2px rgba(0, 0, 0, 0.3));\n",
              "      fill: #FFFFFF;\n",
              "    }\n",
              "  </style>\n",
              "\n",
              "    <script>\n",
              "      const buttonEl =\n",
              "        document.querySelector('#df-9686c433-f5c1-482b-8f3c-8bd52a59657e button.colab-df-convert');\n",
              "      buttonEl.style.display =\n",
              "        google.colab.kernel.accessAllowed ? 'block' : 'none';\n",
              "\n",
              "      async function convertToInteractive(key) {\n",
              "        const element = document.querySelector('#df-9686c433-f5c1-482b-8f3c-8bd52a59657e');\n",
              "        const dataTable =\n",
              "          await google.colab.kernel.invokeFunction('convertToInteractive',\n",
              "                                                    [key], {});\n",
              "        if (!dataTable) return;\n",
              "\n",
              "        const docLinkHtml = 'Like what you see? Visit the ' +\n",
              "          '<a target=\"_blank\" href=https://colab.research.google.com/notebooks/data_table.ipynb>data table notebook</a>'\n",
              "          + ' to learn more about interactive tables.';\n",
              "        element.innerHTML = '';\n",
              "        dataTable['output_type'] = 'display_data';\n",
              "        await google.colab.output.renderOutput(dataTable, element);\n",
              "        const docLink = document.createElement('div');\n",
              "        docLink.innerHTML = docLinkHtml;\n",
              "        element.appendChild(docLink);\n",
              "      }\n",
              "    </script>\n",
              "  </div>\n",
              "\n",
              "\n",
              "<div id=\"df-e69aca56-44a4-4882-818a-4056fd22487c\">\n",
              "  <button class=\"colab-df-quickchart\" onclick=\"quickchart('df-e69aca56-44a4-4882-818a-4056fd22487c')\"\n",
              "            title=\"Suggest charts\"\n",
              "            style=\"display:none;\">\n",
              "\n",
              "<svg xmlns=\"http://www.w3.org/2000/svg\" height=\"24px\"viewBox=\"0 0 24 24\"\n",
              "     width=\"24px\">\n",
              "    <g>\n",
              "        <path d=\"M19 3H5c-1.1 0-2 .9-2 2v14c0 1.1.9 2 2 2h14c1.1 0 2-.9 2-2V5c0-1.1-.9-2-2-2zM9 17H7v-7h2v7zm4 0h-2V7h2v10zm4 0h-2v-4h2v4z\"/>\n",
              "    </g>\n",
              "</svg>\n",
              "  </button>\n",
              "\n",
              "<style>\n",
              "  .colab-df-quickchart {\n",
              "      --bg-color: #E8F0FE;\n",
              "      --fill-color: #1967D2;\n",
              "      --hover-bg-color: #E2EBFA;\n",
              "      --hover-fill-color: #174EA6;\n",
              "      --disabled-fill-color: #AAA;\n",
              "      --disabled-bg-color: #DDD;\n",
              "  }\n",
              "\n",
              "  [theme=dark] .colab-df-quickchart {\n",
              "      --bg-color: #3B4455;\n",
              "      --fill-color: #D2E3FC;\n",
              "      --hover-bg-color: #434B5C;\n",
              "      --hover-fill-color: #FFFFFF;\n",
              "      --disabled-bg-color: #3B4455;\n",
              "      --disabled-fill-color: #666;\n",
              "  }\n",
              "\n",
              "  .colab-df-quickchart {\n",
              "    background-color: var(--bg-color);\n",
              "    border: none;\n",
              "    border-radius: 50%;\n",
              "    cursor: pointer;\n",
              "    display: none;\n",
              "    fill: var(--fill-color);\n",
              "    height: 32px;\n",
              "    padding: 0;\n",
              "    width: 32px;\n",
              "  }\n",
              "\n",
              "  .colab-df-quickchart:hover {\n",
              "    background-color: var(--hover-bg-color);\n",
              "    box-shadow: 0 1px 2px rgba(60, 64, 67, 0.3), 0 1px 3px 1px rgba(60, 64, 67, 0.15);\n",
              "    fill: var(--button-hover-fill-color);\n",
              "  }\n",
              "\n",
              "  .colab-df-quickchart-complete:disabled,\n",
              "  .colab-df-quickchart-complete:disabled:hover {\n",
              "    background-color: var(--disabled-bg-color);\n",
              "    fill: var(--disabled-fill-color);\n",
              "    box-shadow: none;\n",
              "  }\n",
              "\n",
              "  .colab-df-spinner {\n",
              "    border: 2px solid var(--fill-color);\n",
              "    border-color: transparent;\n",
              "    border-bottom-color: var(--fill-color);\n",
              "    animation:\n",
              "      spin 1s steps(1) infinite;\n",
              "  }\n",
              "\n",
              "  @keyframes spin {\n",
              "    0% {\n",
              "      border-color: transparent;\n",
              "      border-bottom-color: var(--fill-color);\n",
              "      border-left-color: var(--fill-color);\n",
              "    }\n",
              "    20% {\n",
              "      border-color: transparent;\n",
              "      border-left-color: var(--fill-color);\n",
              "      border-top-color: var(--fill-color);\n",
              "    }\n",
              "    30% {\n",
              "      border-color: transparent;\n",
              "      border-left-color: var(--fill-color);\n",
              "      border-top-color: var(--fill-color);\n",
              "      border-right-color: var(--fill-color);\n",
              "    }\n",
              "    40% {\n",
              "      border-color: transparent;\n",
              "      border-right-color: var(--fill-color);\n",
              "      border-top-color: var(--fill-color);\n",
              "    }\n",
              "    60% {\n",
              "      border-color: transparent;\n",
              "      border-right-color: var(--fill-color);\n",
              "    }\n",
              "    80% {\n",
              "      border-color: transparent;\n",
              "      border-right-color: var(--fill-color);\n",
              "      border-bottom-color: var(--fill-color);\n",
              "    }\n",
              "    90% {\n",
              "      border-color: transparent;\n",
              "      border-bottom-color: var(--fill-color);\n",
              "    }\n",
              "  }\n",
              "</style>\n",
              "\n",
              "  <script>\n",
              "    async function quickchart(key) {\n",
              "      const quickchartButtonEl =\n",
              "        document.querySelector('#' + key + ' button');\n",
              "      quickchartButtonEl.disabled = true;  // To prevent multiple clicks.\n",
              "      quickchartButtonEl.classList.add('colab-df-spinner');\n",
              "      try {\n",
              "        const charts = await google.colab.kernel.invokeFunction(\n",
              "            'suggestCharts', [key], {});\n",
              "      } catch (error) {\n",
              "        console.error('Error during call to suggestCharts:', error);\n",
              "      }\n",
              "      quickchartButtonEl.classList.remove('colab-df-spinner');\n",
              "      quickchartButtonEl.classList.add('colab-df-quickchart-complete');\n",
              "    }\n",
              "    (() => {\n",
              "      let quickchartButtonEl =\n",
              "        document.querySelector('#df-e69aca56-44a4-4882-818a-4056fd22487c button');\n",
              "      quickchartButtonEl.style.display =\n",
              "        google.colab.kernel.accessAllowed ? 'block' : 'none';\n",
              "    })();\n",
              "  </script>\n",
              "</div>\n",
              "\n",
              "    </div>\n",
              "  </div>\n"
            ],
            "application/vnd.google.colaboratory.intrinsic+json": {
              "type": "dataframe",
              "variable_name": "articles",
              "summary": "{\n  \"name\": \"articles\",\n  \"rows\": 47,\n  \"fields\": [\n    {\n      \"column\": \"url\",\n      \"properties\": {\n        \"dtype\": \"string\",\n        \"num_unique_values\": 47,\n        \"samples\": [\n          \"https://arxiv.org/html/2503.02007v1\",\n          \"https://arxiv.org/html/2503.02637v1\",\n          \"https://arxiv.org/html/2503.01769v2\"\n        ],\n        \"semantic_type\": \"\",\n        \"description\": \"\"\n      }\n    },\n    {\n      \"column\": \"article\",\n      \"properties\": {\n        \"dtype\": \"object\",\n        \"semantic_type\": \"\",\n        \"description\": \"\"\n      }\n    }\n  ]\n}"
            }
          },
          "metadata": {},
          "execution_count": 159
        }
      ]
    },
    {
      "cell_type": "code",
      "source": [
        "tokenizer = GPT2TokenizerFast.from_pretrained(\"gpt2\")"
      ],
      "metadata": {
        "id": "mlq2qnjY4OcL"
      },
      "execution_count": null,
      "outputs": []
    },
    {
      "cell_type": "code",
      "source": [
        "paragraphs = articles.explode('article').rename(columns={\"article\":\"paragraph\"}) # for each url there are several paragraph\n",
        "paragraphs = paragraphs[\n",
        "    (paragraphs['paragraph'].str.split().map(len) > 10) &\n",
        "    (paragraphs['paragraph'].progress_apply(lambda x: len(tokenizer.encode(x)) <= 8000))\n",
        "]\n",
        "paragraphs.head()"
      ],
      "metadata": {
        "colab": {
          "base_uri": "https://localhost:8080/",
          "height": 224
        },
        "id": "HDMChC9mu3i6",
        "outputId": "250ddfd8-4b55-41fd-9258-85bb60e01bb6"
      },
      "execution_count": 160,
      "outputs": [
        {
          "output_type": "stream",
          "name": "stderr",
          "text": [
            "100%|██████████| 1697/1697 [00:07<00:00, 224.11it/s]\n"
          ]
        },
        {
          "output_type": "execute_result",
          "data": {
            "text/plain": [
              "                                   url  \\\n",
              "0  https://arxiv.org/html/2503.00144v1   \n",
              "0  https://arxiv.org/html/2503.00144v1   \n",
              "0  https://arxiv.org/html/2503.00144v1   \n",
              "0  https://arxiv.org/html/2503.00144v1   \n",
              "0  https://arxiv.org/html/2503.00144v1   \n",
              "\n",
              "                                           paragraph  \n",
              "0  \\n\\n1 Introduction\\n\\nProgramming is an import...  \n",
              "0  \\n\\n2 Related Work\\n\\n\\n2.0.1 Learner-System C...  \n",
              "0  \\n\\n2.0.1 Learner-System Control Dynamics.\\n\\n...  \n",
              "0  \\n\\n2.0.2 Participatory Design in Educational ...  \n",
              "0  \\n\\n3 Participatory Design with Learners and I...  "
            ],
            "text/html": [
              "\n",
              "  <div id=\"df-8a789f96-b448-4d3e-8816-7a598f4aec6a\" class=\"colab-df-container\">\n",
              "    <div>\n",
              "<style scoped>\n",
              "    .dataframe tbody tr th:only-of-type {\n",
              "        vertical-align: middle;\n",
              "    }\n",
              "\n",
              "    .dataframe tbody tr th {\n",
              "        vertical-align: top;\n",
              "    }\n",
              "\n",
              "    .dataframe thead th {\n",
              "        text-align: right;\n",
              "    }\n",
              "</style>\n",
              "<table border=\"1\" class=\"dataframe\">\n",
              "  <thead>\n",
              "    <tr style=\"text-align: right;\">\n",
              "      <th></th>\n",
              "      <th>url</th>\n",
              "      <th>paragraph</th>\n",
              "    </tr>\n",
              "  </thead>\n",
              "  <tbody>\n",
              "    <tr>\n",
              "      <th>0</th>\n",
              "      <td>https://arxiv.org/html/2503.00144v1</td>\n",
              "      <td>\\n\\n1 Introduction\\n\\nProgramming is an import...</td>\n",
              "    </tr>\n",
              "    <tr>\n",
              "      <th>0</th>\n",
              "      <td>https://arxiv.org/html/2503.00144v1</td>\n",
              "      <td>\\n\\n2 Related Work\\n\\n\\n2.0.1 Learner-System C...</td>\n",
              "    </tr>\n",
              "    <tr>\n",
              "      <th>0</th>\n",
              "      <td>https://arxiv.org/html/2503.00144v1</td>\n",
              "      <td>\\n\\n2.0.1 Learner-System Control Dynamics.\\n\\n...</td>\n",
              "    </tr>\n",
              "    <tr>\n",
              "      <th>0</th>\n",
              "      <td>https://arxiv.org/html/2503.00144v1</td>\n",
              "      <td>\\n\\n2.0.2 Participatory Design in Educational ...</td>\n",
              "    </tr>\n",
              "    <tr>\n",
              "      <th>0</th>\n",
              "      <td>https://arxiv.org/html/2503.00144v1</td>\n",
              "      <td>\\n\\n3 Participatory Design with Learners and I...</td>\n",
              "    </tr>\n",
              "  </tbody>\n",
              "</table>\n",
              "</div>\n",
              "    <div class=\"colab-df-buttons\">\n",
              "\n",
              "  <div class=\"colab-df-container\">\n",
              "    <button class=\"colab-df-convert\" onclick=\"convertToInteractive('df-8a789f96-b448-4d3e-8816-7a598f4aec6a')\"\n",
              "            title=\"Convert this dataframe to an interactive table.\"\n",
              "            style=\"display:none;\">\n",
              "\n",
              "  <svg xmlns=\"http://www.w3.org/2000/svg\" height=\"24px\" viewBox=\"0 -960 960 960\">\n",
              "    <path d=\"M120-120v-720h720v720H120Zm60-500h600v-160H180v160Zm220 220h160v-160H400v160Zm0 220h160v-160H400v160ZM180-400h160v-160H180v160Zm440 0h160v-160H620v160ZM180-180h160v-160H180v160Zm440 0h160v-160H620v160Z\"/>\n",
              "  </svg>\n",
              "    </button>\n",
              "\n",
              "  <style>\n",
              "    .colab-df-container {\n",
              "      display:flex;\n",
              "      gap: 12px;\n",
              "    }\n",
              "\n",
              "    .colab-df-convert {\n",
              "      background-color: #E8F0FE;\n",
              "      border: none;\n",
              "      border-radius: 50%;\n",
              "      cursor: pointer;\n",
              "      display: none;\n",
              "      fill: #1967D2;\n",
              "      height: 32px;\n",
              "      padding: 0 0 0 0;\n",
              "      width: 32px;\n",
              "    }\n",
              "\n",
              "    .colab-df-convert:hover {\n",
              "      background-color: #E2EBFA;\n",
              "      box-shadow: 0px 1px 2px rgba(60, 64, 67, 0.3), 0px 1px 3px 1px rgba(60, 64, 67, 0.15);\n",
              "      fill: #174EA6;\n",
              "    }\n",
              "\n",
              "    .colab-df-buttons div {\n",
              "      margin-bottom: 4px;\n",
              "    }\n",
              "\n",
              "    [theme=dark] .colab-df-convert {\n",
              "      background-color: #3B4455;\n",
              "      fill: #D2E3FC;\n",
              "    }\n",
              "\n",
              "    [theme=dark] .colab-df-convert:hover {\n",
              "      background-color: #434B5C;\n",
              "      box-shadow: 0px 1px 3px 1px rgba(0, 0, 0, 0.15);\n",
              "      filter: drop-shadow(0px 1px 2px rgba(0, 0, 0, 0.3));\n",
              "      fill: #FFFFFF;\n",
              "    }\n",
              "  </style>\n",
              "\n",
              "    <script>\n",
              "      const buttonEl =\n",
              "        document.querySelector('#df-8a789f96-b448-4d3e-8816-7a598f4aec6a button.colab-df-convert');\n",
              "      buttonEl.style.display =\n",
              "        google.colab.kernel.accessAllowed ? 'block' : 'none';\n",
              "\n",
              "      async function convertToInteractive(key) {\n",
              "        const element = document.querySelector('#df-8a789f96-b448-4d3e-8816-7a598f4aec6a');\n",
              "        const dataTable =\n",
              "          await google.colab.kernel.invokeFunction('convertToInteractive',\n",
              "                                                    [key], {});\n",
              "        if (!dataTable) return;\n",
              "\n",
              "        const docLinkHtml = 'Like what you see? Visit the ' +\n",
              "          '<a target=\"_blank\" href=https://colab.research.google.com/notebooks/data_table.ipynb>data table notebook</a>'\n",
              "          + ' to learn more about interactive tables.';\n",
              "        element.innerHTML = '';\n",
              "        dataTable['output_type'] = 'display_data';\n",
              "        await google.colab.output.renderOutput(dataTable, element);\n",
              "        const docLink = document.createElement('div');\n",
              "        docLink.innerHTML = docLinkHtml;\n",
              "        element.appendChild(docLink);\n",
              "      }\n",
              "    </script>\n",
              "  </div>\n",
              "\n",
              "\n",
              "<div id=\"df-5bbda50f-4654-4ec0-8e47-bd69e2c9f9d3\">\n",
              "  <button class=\"colab-df-quickchart\" onclick=\"quickchart('df-5bbda50f-4654-4ec0-8e47-bd69e2c9f9d3')\"\n",
              "            title=\"Suggest charts\"\n",
              "            style=\"display:none;\">\n",
              "\n",
              "<svg xmlns=\"http://www.w3.org/2000/svg\" height=\"24px\"viewBox=\"0 0 24 24\"\n",
              "     width=\"24px\">\n",
              "    <g>\n",
              "        <path d=\"M19 3H5c-1.1 0-2 .9-2 2v14c0 1.1.9 2 2 2h14c1.1 0 2-.9 2-2V5c0-1.1-.9-2-2-2zM9 17H7v-7h2v7zm4 0h-2V7h2v10zm4 0h-2v-4h2v4z\"/>\n",
              "    </g>\n",
              "</svg>\n",
              "  </button>\n",
              "\n",
              "<style>\n",
              "  .colab-df-quickchart {\n",
              "      --bg-color: #E8F0FE;\n",
              "      --fill-color: #1967D2;\n",
              "      --hover-bg-color: #E2EBFA;\n",
              "      --hover-fill-color: #174EA6;\n",
              "      --disabled-fill-color: #AAA;\n",
              "      --disabled-bg-color: #DDD;\n",
              "  }\n",
              "\n",
              "  [theme=dark] .colab-df-quickchart {\n",
              "      --bg-color: #3B4455;\n",
              "      --fill-color: #D2E3FC;\n",
              "      --hover-bg-color: #434B5C;\n",
              "      --hover-fill-color: #FFFFFF;\n",
              "      --disabled-bg-color: #3B4455;\n",
              "      --disabled-fill-color: #666;\n",
              "  }\n",
              "\n",
              "  .colab-df-quickchart {\n",
              "    background-color: var(--bg-color);\n",
              "    border: none;\n",
              "    border-radius: 50%;\n",
              "    cursor: pointer;\n",
              "    display: none;\n",
              "    fill: var(--fill-color);\n",
              "    height: 32px;\n",
              "    padding: 0;\n",
              "    width: 32px;\n",
              "  }\n",
              "\n",
              "  .colab-df-quickchart:hover {\n",
              "    background-color: var(--hover-bg-color);\n",
              "    box-shadow: 0 1px 2px rgba(60, 64, 67, 0.3), 0 1px 3px 1px rgba(60, 64, 67, 0.15);\n",
              "    fill: var(--button-hover-fill-color);\n",
              "  }\n",
              "\n",
              "  .colab-df-quickchart-complete:disabled,\n",
              "  .colab-df-quickchart-complete:disabled:hover {\n",
              "    background-color: var(--disabled-bg-color);\n",
              "    fill: var(--disabled-fill-color);\n",
              "    box-shadow: none;\n",
              "  }\n",
              "\n",
              "  .colab-df-spinner {\n",
              "    border: 2px solid var(--fill-color);\n",
              "    border-color: transparent;\n",
              "    border-bottom-color: var(--fill-color);\n",
              "    animation:\n",
              "      spin 1s steps(1) infinite;\n",
              "  }\n",
              "\n",
              "  @keyframes spin {\n",
              "    0% {\n",
              "      border-color: transparent;\n",
              "      border-bottom-color: var(--fill-color);\n",
              "      border-left-color: var(--fill-color);\n",
              "    }\n",
              "    20% {\n",
              "      border-color: transparent;\n",
              "      border-left-color: var(--fill-color);\n",
              "      border-top-color: var(--fill-color);\n",
              "    }\n",
              "    30% {\n",
              "      border-color: transparent;\n",
              "      border-left-color: var(--fill-color);\n",
              "      border-top-color: var(--fill-color);\n",
              "      border-right-color: var(--fill-color);\n",
              "    }\n",
              "    40% {\n",
              "      border-color: transparent;\n",
              "      border-right-color: var(--fill-color);\n",
              "      border-top-color: var(--fill-color);\n",
              "    }\n",
              "    60% {\n",
              "      border-color: transparent;\n",
              "      border-right-color: var(--fill-color);\n",
              "    }\n",
              "    80% {\n",
              "      border-color: transparent;\n",
              "      border-right-color: var(--fill-color);\n",
              "      border-bottom-color: var(--fill-color);\n",
              "    }\n",
              "    90% {\n",
              "      border-color: transparent;\n",
              "      border-bottom-color: var(--fill-color);\n",
              "    }\n",
              "  }\n",
              "</style>\n",
              "\n",
              "  <script>\n",
              "    async function quickchart(key) {\n",
              "      const quickchartButtonEl =\n",
              "        document.querySelector('#' + key + ' button');\n",
              "      quickchartButtonEl.disabled = true;  // To prevent multiple clicks.\n",
              "      quickchartButtonEl.classList.add('colab-df-spinner');\n",
              "      try {\n",
              "        const charts = await google.colab.kernel.invokeFunction(\n",
              "            'suggestCharts', [key], {});\n",
              "      } catch (error) {\n",
              "        console.error('Error during call to suggestCharts:', error);\n",
              "      }\n",
              "      quickchartButtonEl.classList.remove('colab-df-spinner');\n",
              "      quickchartButtonEl.classList.add('colab-df-quickchart-complete');\n",
              "    }\n",
              "    (() => {\n",
              "      let quickchartButtonEl =\n",
              "        document.querySelector('#df-5bbda50f-4654-4ec0-8e47-bd69e2c9f9d3 button');\n",
              "      quickchartButtonEl.style.display =\n",
              "        google.colab.kernel.accessAllowed ? 'block' : 'none';\n",
              "    })();\n",
              "  </script>\n",
              "</div>\n",
              "\n",
              "    </div>\n",
              "  </div>\n"
            ],
            "application/vnd.google.colaboratory.intrinsic+json": {
              "type": "dataframe",
              "variable_name": "paragraphs",
              "summary": "{\n  \"name\": \"paragraphs\",\n  \"rows\": 1668,\n  \"fields\": [\n    {\n      \"column\": \"url\",\n      \"properties\": {\n        \"dtype\": \"category\",\n        \"num_unique_values\": 47,\n        \"samples\": [\n          \"https://arxiv.org/html/2503.02007v1\",\n          \"https://arxiv.org/html/2503.02637v1\",\n          \"https://arxiv.org/html/2503.01769v2\"\n        ],\n        \"semantic_type\": \"\",\n        \"description\": \"\"\n      }\n    },\n    {\n      \"column\": \"paragraph\",\n      \"properties\": {\n        \"dtype\": \"string\",\n        \"num_unique_values\": 1668,\n        \"samples\": [\n          \"\\n\\n2.1. Situational\\n\\nIn the context of geopolitical conflicts, \\u201ctrack 1 diplomacy\\u201d involving formal negotiations between governments is often supplemented or supplanted by \\u201cbackchannel\\u201d dialogue involving unofficial non-governmental representatives from each side. Such backchannel dialogues may involve government officials participating in an unofficial capacity (\\u201ctrack 1.5 diplomacy\\u201d) or may not involve governments at all (\\u201ctrack 2 diplomacy\\u201d) (montville1991track). Often, these dialogues provide a more open environment to build trust and discuss tough issues. Furthermore, they can enable cross-border communication when formal diplomatic channels are closed. Civil society peacebuilders typically play a significant role in convening and contributing to these dialogues.\\n\\n\\nIn early 2024, following the events of October 7th, 2023, and within the broader context of protracted asymmetrical conflict, tensions between Israeli and Palestinian peacebuilders had understandably intensified. Shaped not only by the recent escalation in violence, but also by decades of structural disparity, open hostility, and deep-seated mistrust, the substrate to discuss tough issues had grown fragile111We intentionally chose to use politically neutral language and not impose a characterization of the lived experiences of Palestinians and Israelis, including our own. This includes deliberately omitting certain terms, such as \\u201coccupation,\\u201d that have widely recognized legal and political significance under international law and are central to the lived experiences of many participants in this process. We believe it is consistent with the spirit of this work that any political positions conveyed by this otherwise-technical paper should not be ours, but those manifest in the points of common ground found among the peacebuilders who participated in this effort (Table 3).. In this context, we worked with the Alliance for Middle East Peace (ALLMEP) \\u2014 a network of civil society peacebuilders in the region \\u2014 with the goal of strengthening that substrate. This initiative sought to create a foundation for meaningful dialogue grounded in shared humanity and collective action. To this end, we sought to help peacebuilders find common ground. But the situation presented a few real-world challenges.\\n\\n\\n\\n\\n\\u2022\\n\\nLanguage: Peacebuilders\\u2019 native languages span Hebrew, Palestinian Arabic, and English. Beyond communication, language carries deep cultural and historical significance, where it has been a tool of identity and a subtext of power imbalance. It was crucial for inclusivity and legitimacy that participants could engage fully in their native languages. Additionally, the sensitivity of language in this context extends to word choices that may reflect deeply rooted political and cultural meanings.\\n\\n\\n\\n\\u2022\\n\\nTrust: Skepticism and mistrust, stemming from historical experiences of injustice, violence and prolonged conflict, posed significant barriers to engagement. This meant that before we could reasonably expect a willingness to participate in joint dialogue, we would need to elevate trust in good faith partnership. It also meant that the process itself would have to hold up to scrutiny that the \\u201cother side\\u201d did not have a mechanism to influence the results to their advantage.\\n\\n\\n\\n\\u2022\\n\\nAsymmetry: We expected that, by default, there would be an unequal number of representatives participating from each side, and that it would be not be in the spirit of inclusion to limit the number of participants from each side to achieve balance. It was crucial to design a process that accounted for structural asymmetries, ensuring that even with unequal representation, all \\u201csides\\u201d held equitable influence on the outcomes.\\n\\n\\n\\n\\n\",\n          \"\\n\\n6.0.2. Stylization\\n\\nTactStyle used two modules \\u2014 the color stylization module and the geometry stylization module to optimize both visual and tactile properties. As shown in Figure\\u00a03, TactStyle uses Style2Fab\\u00a0(Faruqi et\\u00a0al., 2023) for iterative color optimization. Here the model\\u2019s geometry is frozen, and the generative AI model modifies the color channels of the vertices to approximate the style in the image. Next, the geometry stylization module uses the modified image generation model to generate a heightfield using the texture image prompt provided by the user. This heighfield is applied on the model using the technique described in section \\u00a05.5. The completed model is rendered alongside the original model for review. Furthermore, the segmentation tool from Style2Fab\\u00a0(Faruqi et\\u00a0al., 2023) has been integrated into TactStyle. This allows the user to have multiple textures on the same model. For this, the user can segment the model through Style2Fab\\u2019s segmentation, and then apply TactStyle on individual segments.\\n\\n\",\n          \"\\n\\n5.3.2. Full-body Setup\\n\\n\\n\\n\\nFigure 5. Examples of equipment setup and stream layout in full-body setup (Image retrieved from (Mari Yume, 2023))\\n\\\\Description\\n\\n\\nThis figure shows examples of equipment setup and stream layout used for a full-body VTuber setup. The figure is divided into two parts: Left Side (Equipment Setup): This image features a person wearing equipment to control the avatar. The individual is equipped with a head-mounted VR display (HMD), motion trackers attached to their wrists, waist, knees, and ankles, and hand-held controllers in each hand. Right Side (Stream Layout): This shows the corresponding virtual avatar displayed on the stream. The avatar is a humanoid character with a youthful appearance, wearing a casual outfit with a hoodie and shorts. The avatar mimics the user\\u2019s full-body movements in real-time, reflecting the position of arms, legs, and body posture. The background is a virtual 3D space with blue block-like structures.\\n\\n\\n\\n\\nThe full-body setup is used by VTubers with 3D models, allowing them to showcase their entire avatar in a 3D space during streaming (Figure 5).\\nThis setup requires 3D-supported VTubing software, social VR platforms, or game engines.\\nAll participants with 3D models except P10 have experience with the full-body setup.\\nP1 and P8 primarily used this setup for their streams, while others occasionally switched to it depending on the content.\\n\\n\\nMotion capture suits facilitate the highest fidelity tracking, but not all participants purchased them due to their high cost.\\nVTubers typically used HMDs for head tracking, controllers for hand tracking, and motion trackers to track additional points such as waist and feet (Figure 5).\\nP1 and P8 used finger-tracking controllers to generate sophisticated finger animations.\\nIn addition, similar to macro keys, VTubers often map expressive animations to the buttons on VR controllers, allowing them to overcome physical limitations and express distinctive reactions at the right moment during the stream.\\nWearing an HMD prevents the iPhone\\u2019s face-tracking feature from working properly.\\nAs a remedy, VTubers rely on microphones to capture their speech and synchronize the avatar\\u2019s lip movements with their voice.\\nParticipants often preferred devices from the same manufacturer for easier setup.\\nHowever, P4 and P9 opted for a MixedVR setup, combining HMDs and motion trackers from different manufacturers to make use of their existing equipment.\\nA typical example is the combination of a Meta Quest HMD with HTC Vive motion trackers, as Meta does not manufacture its own motion trackers.\\nP9 noted the drawbacks of MixedVR setups, such as potential connection issues between devices leading to tracking errors and a more complex setup process.\\n\\n\"\n        ],\n        \"semantic_type\": \"\",\n        \"description\": \"\"\n      }\n    }\n  ]\n}"
            }
          },
          "metadata": {},
          "execution_count": 160
        }
      ]
    },
    {
      "cell_type": "code",
      "source": [
        "paragraphs.shape"
      ],
      "metadata": {
        "colab": {
          "base_uri": "https://localhost:8080/"
        },
        "id": "XAumxzrFwvvf",
        "outputId": "78fec901-50b1-4609-c90b-4756978cca17"
      },
      "execution_count": 161,
      "outputs": [
        {
          "output_type": "execute_result",
          "data": {
            "text/plain": [
              "(1668, 2)"
            ]
          },
          "metadata": {},
          "execution_count": 161
        }
      ]
    },
    {
      "cell_type": "markdown",
      "source": [
        "\n",
        "# Embeddings"
      ],
      "metadata": {
        "id": "RzHRBKmPxy1p"
      }
    },
    {
      "cell_type": "code",
      "source": [
        "def get_embedding(texts, model='text-embedding-ada-002'):\n",
        "    text = [text.replace(\"\\n\", \" \") for text in texts]\n",
        "\n",
        "    return [res.embedding for res in client.embeddings.create(input = texts, model=model).data]"
      ],
      "metadata": {
        "id": "4Hf0HgN-0odF"
      },
      "execution_count": 162,
      "outputs": []
    },
    {
      "cell_type": "code",
      "source": [
        "batch_size=100\n",
        "embeddings = []\n",
        "for i in trange(0, len(paragraphs), batch_size):\n",
        "    embeddings.extend(get_embedding(paragraphs[\"paragraph\"].iloc[i:i+batch_size]))"
      ],
      "metadata": {
        "colab": {
          "base_uri": "https://localhost:8080/"
        },
        "id": "_XxMImcP0Gdo",
        "outputId": "a35aabc8-e19f-4864-b088-d054f5ae5879"
      },
      "execution_count": 163,
      "outputs": [
        {
          "output_type": "stream",
          "name": "stderr",
          "text": [
            "100%|██████████| 17/17 [00:30<00:00,  1.80s/it]\n"
          ]
        }
      ]
    },
    {
      "cell_type": "code",
      "source": [
        "tqdm.pandas()\n",
        "paragraphs[\"embeddings\"] = paragraphs[\"paragraph\"].progress_apply(get_embedding)"
      ],
      "metadata": {
        "colab": {
          "base_uri": "https://localhost:8080/"
        },
        "id": "kF4MWpMpzUcg",
        "outputId": "46e61938-d6c8-46f7-9381-698da575b92a"
      },
      "execution_count": null,
      "outputs": [
        {
          "output_type": "stream",
          "name": "stderr",
          "text": [
            "  1%|▏         | 22/1668 [00:06<07:38,  3.59it/s]"
          ]
        }
      ]
    }
  ]
}