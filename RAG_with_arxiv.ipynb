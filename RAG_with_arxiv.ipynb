{
  "nbformat": 4,
  "nbformat_minor": 0,
  "metadata": {
    "colab": {
      "provenance": [],
      "authorship_tag": "ABX9TyPVsUN1nbj58bWY6amuj+Vg",
      "include_colab_link": true
    },
    "kernelspec": {
      "name": "python3",
      "display_name": "Python 3"
    },
    "language_info": {
      "name": "python"
    }
  },
  "cells": [
    {
      "cell_type": "markdown",
      "metadata": {
        "id": "view-in-github",
        "colab_type": "text"
      },
      "source": [
        "<a href=\"https://colab.research.google.com/github/noambassat/Rag_on_arxiv/blob/main/RAG_with_arxiv.ipynb\" target=\"_parent\"><img src=\"https://colab.research.google.com/assets/colab-badge.svg\" alt=\"Open In Colab\"/></a>"
      ]
    },
    {
      "cell_type": "code",
      "execution_count": 176,
      "metadata": {
        "id": "c_PrAcFohQ_M"
      },
      "outputs": [],
      "source": [
        "import requests\n",
        "from bs4 import BeautifulSoup as bs\n",
        "from datetime import datetime, timedelta\n",
        "from tqdm import tqdm, trange\n",
        "import numpy as np\n",
        "import pandas as pd\n",
        "import re"
      ]
    },
    {
      "cell_type": "code",
      "source": [
        "from openai import OpenAI\n",
        "from google.colab import userdata\n",
        "import os\n",
        "from transformers import GPT2TokenizerFast\n",
        "from sklearn.metrics.pairwise import cosine_similarity"
      ],
      "metadata": {
        "id": "H1gaRL1_xEg5"
      },
      "execution_count": 177,
      "outputs": []
    },
    {
      "cell_type": "markdown",
      "source": [],
      "metadata": {
        "id": "tI7UPxtGoLbe"
      }
    },
    {
      "cell_type": "code",
      "source": [
        "open_ai_key=userdata.get('open_ai_key')\n",
        "os.environ['OPENAI_API_KEY'] = open_ai_key\n",
        "client = OpenAI()\n"
      ],
      "metadata": {
        "id": "L_RDjNMSySal"
      },
      "execution_count": 178,
      "outputs": []
    },
    {
      "cell_type": "code",
      "source": [
        "\"https://arxiv.org/list/cs.HC/\" + datetime(2025,3,26).strftime(\"%Y-%m\")"
      ],
      "metadata": {
        "colab": {
          "base_uri": "https://localhost:8080/",
          "height": 36
        },
        "id": "eJa-MHwEmPQQ",
        "outputId": "93c53519-9c7f-4592-cca1-a4ab66ab3e4c"
      },
      "execution_count": 179,
      "outputs": [
        {
          "output_type": "execute_result",
          "data": {
            "text/plain": [
              "'https://arxiv.org/list/cs.HC/2025-03'"
            ],
            "application/vnd.google.colaboratory.intrinsic+json": {
              "type": "string"
            }
          },
          "metadata": {},
          "execution_count": 179
        }
      ]
    },
    {
      "cell_type": "code",
      "source": [],
      "metadata": {
        "id": "AGRK7MXDoaqc"
      },
      "execution_count": 179,
      "outputs": []
    },
    {
      "cell_type": "code",
      "source": [
        "def get_url(date):\n",
        "  path = \"https://arxiv.org/list/cs.HC/\" + date.strftime(\"%Y-%m\")\n",
        "  content = requests.get(path).text\n",
        "  return [a[\"href\"] for a in bs(content, \"html.parser\").find_all(\"a\",{\"title\":\"View HTML\"})]"
      ],
      "metadata": {
        "id": "rpVc28GhheQ-"
      },
      "execution_count": 180,
      "outputs": []
    },
    {
      "cell_type": "code",
      "source": [
        "# urls = sum([get_url(datetime(2025, 3, 26)-timedelta(days=i*30))\n",
        "#         for i in trange(5)],[])\n",
        "\n",
        "urls = get_url(datetime(2025, 3, 26))\n",
        "print(urls[0])"
      ],
      "metadata": {
        "colab": {
          "base_uri": "https://localhost:8080/"
        },
        "id": "mBdKhDhbo8P6",
        "outputId": "7ca4001d-9ab0-45e6-b2ec-e10ae54fae0d"
      },
      "execution_count": 181,
      "outputs": [
        {
          "output_type": "stream",
          "name": "stdout",
          "text": [
            "https://arxiv.org/html/2503.00144v1\n"
          ]
        }
      ]
    },
    {
      "cell_type": "code",
      "source": [
        "def get_article(url):\n",
        "    content = requests.get(url).text\n",
        "    article = bs(content, \"html.parser\").find(\"div\",{\"class\":\"ltx_page_content\"})\n",
        "    return [s.text for s in article.find_all(\"section\")]"
      ],
      "metadata": {
        "id": "7I9zmeBRra0h"
      },
      "execution_count": 182,
      "outputs": []
    },
    {
      "cell_type": "code",
      "source": [
        "articles = pd.DataFrame(\n",
        "    {\n",
        "        \"url\":urls,\n",
        "        \"article\":[get_article(url) for url in tqdm(urls)]\n",
        "    }\n",
        ")"
      ],
      "metadata": {
        "colab": {
          "base_uri": "https://localhost:8080/"
        },
        "id": "hqvUwIOGsuDF",
        "outputId": "cbc0d518-444f-427c-df4e-5b8f148bd95e"
      },
      "execution_count": 183,
      "outputs": [
        {
          "output_type": "stream",
          "name": "stderr",
          "text": [
            "100%|██████████| 47/47 [00:26<00:00,  1.80it/s]\n"
          ]
        }
      ]
    },
    {
      "cell_type": "code",
      "source": [
        "articles[\"article\"].isna().sum()"
      ],
      "metadata": {
        "colab": {
          "base_uri": "https://localhost:8080/"
        },
        "id": "I4wuys1ut9k3",
        "outputId": "489b5c1d-788e-4cd0-868d-756f97330e75"
      },
      "execution_count": 184,
      "outputs": [
        {
          "output_type": "execute_result",
          "data": {
            "text/plain": [
              "np.int64(0)"
            ]
          },
          "metadata": {},
          "execution_count": 184
        }
      ]
    },
    {
      "cell_type": "code",
      "source": [
        "articles.shape"
      ],
      "metadata": {
        "colab": {
          "base_uri": "https://localhost:8080/"
        },
        "id": "e0Vro78dwp3z",
        "outputId": "a3dc536b-8678-4ceb-d9c6-ddce9ad5b439"
      },
      "execution_count": 185,
      "outputs": [
        {
          "output_type": "execute_result",
          "data": {
            "text/plain": [
              "(47, 2)"
            ]
          },
          "metadata": {},
          "execution_count": 185
        }
      ]
    },
    {
      "cell_type": "code",
      "source": [
        "articles.head()"
      ],
      "metadata": {
        "colab": {
          "base_uri": "https://localhost:8080/",
          "height": 206
        },
        "id": "42K6Zjzrvj62",
        "outputId": "0f282aba-bad2-4999-8fbb-2ac809d2f6cd"
      },
      "execution_count": 186,
      "outputs": [
        {
          "output_type": "execute_result",
          "data": {
            "text/plain": [
              "                                   url  \\\n",
              "0  https://arxiv.org/html/2503.00144v1   \n",
              "1  https://arxiv.org/html/2503.00149v2   \n",
              "2  https://arxiv.org/html/2503.00228v1   \n",
              "3  https://arxiv.org/html/2503.00257v1   \n",
              "4  https://arxiv.org/html/2503.00303v1   \n",
              "\n",
              "                                             article  \n",
              "0  [\\n\\n1 Introduction\\n\\nProgramming is an impor...  \n",
              "1  [\\n\\n1. Introduction\\n\\nTactile charts are an ...  \n",
              "2  [\\n\\n1. Introduction\\n\\nSimilarity is a fundam...  \n",
              "3  [\\n\\n1. Introduction\\n\\nThe Japanese manga111M...  \n",
              "4  [\\n\\nI Introduction\\n\\n\\nThis document is a mo...  "
            ],
            "text/html": [
              "\n",
              "  <div id=\"df-400f786d-baf5-432e-9cb5-55bb7a92cc2f\" class=\"colab-df-container\">\n",
              "    <div>\n",
              "<style scoped>\n",
              "    .dataframe tbody tr th:only-of-type {\n",
              "        vertical-align: middle;\n",
              "    }\n",
              "\n",
              "    .dataframe tbody tr th {\n",
              "        vertical-align: top;\n",
              "    }\n",
              "\n",
              "    .dataframe thead th {\n",
              "        text-align: right;\n",
              "    }\n",
              "</style>\n",
              "<table border=\"1\" class=\"dataframe\">\n",
              "  <thead>\n",
              "    <tr style=\"text-align: right;\">\n",
              "      <th></th>\n",
              "      <th>url</th>\n",
              "      <th>article</th>\n",
              "    </tr>\n",
              "  </thead>\n",
              "  <tbody>\n",
              "    <tr>\n",
              "      <th>0</th>\n",
              "      <td>https://arxiv.org/html/2503.00144v1</td>\n",
              "      <td>[\\n\\n1 Introduction\\n\\nProgramming is an impor...</td>\n",
              "    </tr>\n",
              "    <tr>\n",
              "      <th>1</th>\n",
              "      <td>https://arxiv.org/html/2503.00149v2</td>\n",
              "      <td>[\\n\\n1. Introduction\\n\\nTactile charts are an ...</td>\n",
              "    </tr>\n",
              "    <tr>\n",
              "      <th>2</th>\n",
              "      <td>https://arxiv.org/html/2503.00228v1</td>\n",
              "      <td>[\\n\\n1. Introduction\\n\\nSimilarity is a fundam...</td>\n",
              "    </tr>\n",
              "    <tr>\n",
              "      <th>3</th>\n",
              "      <td>https://arxiv.org/html/2503.00257v1</td>\n",
              "      <td>[\\n\\n1. Introduction\\n\\nThe Japanese manga111M...</td>\n",
              "    </tr>\n",
              "    <tr>\n",
              "      <th>4</th>\n",
              "      <td>https://arxiv.org/html/2503.00303v1</td>\n",
              "      <td>[\\n\\nI Introduction\\n\\n\\nThis document is a mo...</td>\n",
              "    </tr>\n",
              "  </tbody>\n",
              "</table>\n",
              "</div>\n",
              "    <div class=\"colab-df-buttons\">\n",
              "\n",
              "  <div class=\"colab-df-container\">\n",
              "    <button class=\"colab-df-convert\" onclick=\"convertToInteractive('df-400f786d-baf5-432e-9cb5-55bb7a92cc2f')\"\n",
              "            title=\"Convert this dataframe to an interactive table.\"\n",
              "            style=\"display:none;\">\n",
              "\n",
              "  <svg xmlns=\"http://www.w3.org/2000/svg\" height=\"24px\" viewBox=\"0 -960 960 960\">\n",
              "    <path d=\"M120-120v-720h720v720H120Zm60-500h600v-160H180v160Zm220 220h160v-160H400v160Zm0 220h160v-160H400v160ZM180-400h160v-160H180v160Zm440 0h160v-160H620v160ZM180-180h160v-160H180v160Zm440 0h160v-160H620v160Z\"/>\n",
              "  </svg>\n",
              "    </button>\n",
              "\n",
              "  <style>\n",
              "    .colab-df-container {\n",
              "      display:flex;\n",
              "      gap: 12px;\n",
              "    }\n",
              "\n",
              "    .colab-df-convert {\n",
              "      background-color: #E8F0FE;\n",
              "      border: none;\n",
              "      border-radius: 50%;\n",
              "      cursor: pointer;\n",
              "      display: none;\n",
              "      fill: #1967D2;\n",
              "      height: 32px;\n",
              "      padding: 0 0 0 0;\n",
              "      width: 32px;\n",
              "    }\n",
              "\n",
              "    .colab-df-convert:hover {\n",
              "      background-color: #E2EBFA;\n",
              "      box-shadow: 0px 1px 2px rgba(60, 64, 67, 0.3), 0px 1px 3px 1px rgba(60, 64, 67, 0.15);\n",
              "      fill: #174EA6;\n",
              "    }\n",
              "\n",
              "    .colab-df-buttons div {\n",
              "      margin-bottom: 4px;\n",
              "    }\n",
              "\n",
              "    [theme=dark] .colab-df-convert {\n",
              "      background-color: #3B4455;\n",
              "      fill: #D2E3FC;\n",
              "    }\n",
              "\n",
              "    [theme=dark] .colab-df-convert:hover {\n",
              "      background-color: #434B5C;\n",
              "      box-shadow: 0px 1px 3px 1px rgba(0, 0, 0, 0.15);\n",
              "      filter: drop-shadow(0px 1px 2px rgba(0, 0, 0, 0.3));\n",
              "      fill: #FFFFFF;\n",
              "    }\n",
              "  </style>\n",
              "\n",
              "    <script>\n",
              "      const buttonEl =\n",
              "        document.querySelector('#df-400f786d-baf5-432e-9cb5-55bb7a92cc2f button.colab-df-convert');\n",
              "      buttonEl.style.display =\n",
              "        google.colab.kernel.accessAllowed ? 'block' : 'none';\n",
              "\n",
              "      async function convertToInteractive(key) {\n",
              "        const element = document.querySelector('#df-400f786d-baf5-432e-9cb5-55bb7a92cc2f');\n",
              "        const dataTable =\n",
              "          await google.colab.kernel.invokeFunction('convertToInteractive',\n",
              "                                                    [key], {});\n",
              "        if (!dataTable) return;\n",
              "\n",
              "        const docLinkHtml = 'Like what you see? Visit the ' +\n",
              "          '<a target=\"_blank\" href=https://colab.research.google.com/notebooks/data_table.ipynb>data table notebook</a>'\n",
              "          + ' to learn more about interactive tables.';\n",
              "        element.innerHTML = '';\n",
              "        dataTable['output_type'] = 'display_data';\n",
              "        await google.colab.output.renderOutput(dataTable, element);\n",
              "        const docLink = document.createElement('div');\n",
              "        docLink.innerHTML = docLinkHtml;\n",
              "        element.appendChild(docLink);\n",
              "      }\n",
              "    </script>\n",
              "  </div>\n",
              "\n",
              "\n",
              "<div id=\"df-07a0d58a-c4cf-4374-b6a5-173d1b58168a\">\n",
              "  <button class=\"colab-df-quickchart\" onclick=\"quickchart('df-07a0d58a-c4cf-4374-b6a5-173d1b58168a')\"\n",
              "            title=\"Suggest charts\"\n",
              "            style=\"display:none;\">\n",
              "\n",
              "<svg xmlns=\"http://www.w3.org/2000/svg\" height=\"24px\"viewBox=\"0 0 24 24\"\n",
              "     width=\"24px\">\n",
              "    <g>\n",
              "        <path d=\"M19 3H5c-1.1 0-2 .9-2 2v14c0 1.1.9 2 2 2h14c1.1 0 2-.9 2-2V5c0-1.1-.9-2-2-2zM9 17H7v-7h2v7zm4 0h-2V7h2v10zm4 0h-2v-4h2v4z\"/>\n",
              "    </g>\n",
              "</svg>\n",
              "  </button>\n",
              "\n",
              "<style>\n",
              "  .colab-df-quickchart {\n",
              "      --bg-color: #E8F0FE;\n",
              "      --fill-color: #1967D2;\n",
              "      --hover-bg-color: #E2EBFA;\n",
              "      --hover-fill-color: #174EA6;\n",
              "      --disabled-fill-color: #AAA;\n",
              "      --disabled-bg-color: #DDD;\n",
              "  }\n",
              "\n",
              "  [theme=dark] .colab-df-quickchart {\n",
              "      --bg-color: #3B4455;\n",
              "      --fill-color: #D2E3FC;\n",
              "      --hover-bg-color: #434B5C;\n",
              "      --hover-fill-color: #FFFFFF;\n",
              "      --disabled-bg-color: #3B4455;\n",
              "      --disabled-fill-color: #666;\n",
              "  }\n",
              "\n",
              "  .colab-df-quickchart {\n",
              "    background-color: var(--bg-color);\n",
              "    border: none;\n",
              "    border-radius: 50%;\n",
              "    cursor: pointer;\n",
              "    display: none;\n",
              "    fill: var(--fill-color);\n",
              "    height: 32px;\n",
              "    padding: 0;\n",
              "    width: 32px;\n",
              "  }\n",
              "\n",
              "  .colab-df-quickchart:hover {\n",
              "    background-color: var(--hover-bg-color);\n",
              "    box-shadow: 0 1px 2px rgba(60, 64, 67, 0.3), 0 1px 3px 1px rgba(60, 64, 67, 0.15);\n",
              "    fill: var(--button-hover-fill-color);\n",
              "  }\n",
              "\n",
              "  .colab-df-quickchart-complete:disabled,\n",
              "  .colab-df-quickchart-complete:disabled:hover {\n",
              "    background-color: var(--disabled-bg-color);\n",
              "    fill: var(--disabled-fill-color);\n",
              "    box-shadow: none;\n",
              "  }\n",
              "\n",
              "  .colab-df-spinner {\n",
              "    border: 2px solid var(--fill-color);\n",
              "    border-color: transparent;\n",
              "    border-bottom-color: var(--fill-color);\n",
              "    animation:\n",
              "      spin 1s steps(1) infinite;\n",
              "  }\n",
              "\n",
              "  @keyframes spin {\n",
              "    0% {\n",
              "      border-color: transparent;\n",
              "      border-bottom-color: var(--fill-color);\n",
              "      border-left-color: var(--fill-color);\n",
              "    }\n",
              "    20% {\n",
              "      border-color: transparent;\n",
              "      border-left-color: var(--fill-color);\n",
              "      border-top-color: var(--fill-color);\n",
              "    }\n",
              "    30% {\n",
              "      border-color: transparent;\n",
              "      border-left-color: var(--fill-color);\n",
              "      border-top-color: var(--fill-color);\n",
              "      border-right-color: var(--fill-color);\n",
              "    }\n",
              "    40% {\n",
              "      border-color: transparent;\n",
              "      border-right-color: var(--fill-color);\n",
              "      border-top-color: var(--fill-color);\n",
              "    }\n",
              "    60% {\n",
              "      border-color: transparent;\n",
              "      border-right-color: var(--fill-color);\n",
              "    }\n",
              "    80% {\n",
              "      border-color: transparent;\n",
              "      border-right-color: var(--fill-color);\n",
              "      border-bottom-color: var(--fill-color);\n",
              "    }\n",
              "    90% {\n",
              "      border-color: transparent;\n",
              "      border-bottom-color: var(--fill-color);\n",
              "    }\n",
              "  }\n",
              "</style>\n",
              "\n",
              "  <script>\n",
              "    async function quickchart(key) {\n",
              "      const quickchartButtonEl =\n",
              "        document.querySelector('#' + key + ' button');\n",
              "      quickchartButtonEl.disabled = true;  // To prevent multiple clicks.\n",
              "      quickchartButtonEl.classList.add('colab-df-spinner');\n",
              "      try {\n",
              "        const charts = await google.colab.kernel.invokeFunction(\n",
              "            'suggestCharts', [key], {});\n",
              "      } catch (error) {\n",
              "        console.error('Error during call to suggestCharts:', error);\n",
              "      }\n",
              "      quickchartButtonEl.classList.remove('colab-df-spinner');\n",
              "      quickchartButtonEl.classList.add('colab-df-quickchart-complete');\n",
              "    }\n",
              "    (() => {\n",
              "      let quickchartButtonEl =\n",
              "        document.querySelector('#df-07a0d58a-c4cf-4374-b6a5-173d1b58168a button');\n",
              "      quickchartButtonEl.style.display =\n",
              "        google.colab.kernel.accessAllowed ? 'block' : 'none';\n",
              "    })();\n",
              "  </script>\n",
              "</div>\n",
              "\n",
              "    </div>\n",
              "  </div>\n"
            ],
            "application/vnd.google.colaboratory.intrinsic+json": {
              "type": "dataframe",
              "variable_name": "articles",
              "summary": "{\n  \"name\": \"articles\",\n  \"rows\": 47,\n  \"fields\": [\n    {\n      \"column\": \"url\",\n      \"properties\": {\n        \"dtype\": \"string\",\n        \"num_unique_values\": 47,\n        \"samples\": [\n          \"https://arxiv.org/html/2503.02007v1\",\n          \"https://arxiv.org/html/2503.02637v1\",\n          \"https://arxiv.org/html/2503.01769v2\"\n        ],\n        \"semantic_type\": \"\",\n        \"description\": \"\"\n      }\n    },\n    {\n      \"column\": \"article\",\n      \"properties\": {\n        \"dtype\": \"object\",\n        \"semantic_type\": \"\",\n        \"description\": \"\"\n      }\n    }\n  ]\n}"
            }
          },
          "metadata": {},
          "execution_count": 186
        }
      ]
    },
    {
      "cell_type": "code",
      "source": [
        "tokenizer = GPT2TokenizerFast.from_pretrained(\"gpt2\")"
      ],
      "metadata": {
        "id": "mlq2qnjY4OcL"
      },
      "execution_count": 187,
      "outputs": []
    },
    {
      "cell_type": "code",
      "source": [
        "paragraphs = articles.explode('article').rename(columns={\"article\":\"paragraph\"}) # for each url there are several paragraph\n",
        "paragraphs = paragraphs[\n",
        "    (paragraphs['paragraph'].str.split().map(len) > 10) &\n",
        "    (paragraphs['paragraph'].progress_apply(lambda x: len(tokenizer.encode(x)) <= 8000))\n",
        "]\n",
        "paragraphs.head()"
      ],
      "metadata": {
        "colab": {
          "base_uri": "https://localhost:8080/",
          "height": 262
        },
        "id": "HDMChC9mu3i6",
        "outputId": "f9346998-d656-416d-f72e-74ea4c0c3ecd"
      },
      "execution_count": 188,
      "outputs": [
        {
          "output_type": "stream",
          "name": "stderr",
          "text": [
            "  0%|          | 0/1697 [00:00<?, ?it/s]Token indices sequence length is longer than the specified maximum sequence length for this model (1157 > 1024). Running this sequence through the model will result in indexing errors\n",
            "100%|██████████| 1697/1697 [00:07<00:00, 216.53it/s]\n"
          ]
        },
        {
          "output_type": "execute_result",
          "data": {
            "text/plain": [
              "                                   url  \\\n",
              "0  https://arxiv.org/html/2503.00144v1   \n",
              "0  https://arxiv.org/html/2503.00144v1   \n",
              "0  https://arxiv.org/html/2503.00144v1   \n",
              "0  https://arxiv.org/html/2503.00144v1   \n",
              "0  https://arxiv.org/html/2503.00144v1   \n",
              "\n",
              "                                           paragraph  \n",
              "0  \\n\\n1 Introduction\\n\\nProgramming is an import...  \n",
              "0  \\n\\n2 Related Work\\n\\n\\n2.0.1 Learner-System C...  \n",
              "0  \\n\\n2.0.1 Learner-System Control Dynamics.\\n\\n...  \n",
              "0  \\n\\n2.0.2 Participatory Design in Educational ...  \n",
              "0  \\n\\n3 Participatory Design with Learners and I...  "
            ],
            "text/html": [
              "\n",
              "  <div id=\"df-93abf13a-1b14-4ba6-8dcc-f8f728d27e89\" class=\"colab-df-container\">\n",
              "    <div>\n",
              "<style scoped>\n",
              "    .dataframe tbody tr th:only-of-type {\n",
              "        vertical-align: middle;\n",
              "    }\n",
              "\n",
              "    .dataframe tbody tr th {\n",
              "        vertical-align: top;\n",
              "    }\n",
              "\n",
              "    .dataframe thead th {\n",
              "        text-align: right;\n",
              "    }\n",
              "</style>\n",
              "<table border=\"1\" class=\"dataframe\">\n",
              "  <thead>\n",
              "    <tr style=\"text-align: right;\">\n",
              "      <th></th>\n",
              "      <th>url</th>\n",
              "      <th>paragraph</th>\n",
              "    </tr>\n",
              "  </thead>\n",
              "  <tbody>\n",
              "    <tr>\n",
              "      <th>0</th>\n",
              "      <td>https://arxiv.org/html/2503.00144v1</td>\n",
              "      <td>\\n\\n1 Introduction\\n\\nProgramming is an import...</td>\n",
              "    </tr>\n",
              "    <tr>\n",
              "      <th>0</th>\n",
              "      <td>https://arxiv.org/html/2503.00144v1</td>\n",
              "      <td>\\n\\n2 Related Work\\n\\n\\n2.0.1 Learner-System C...</td>\n",
              "    </tr>\n",
              "    <tr>\n",
              "      <th>0</th>\n",
              "      <td>https://arxiv.org/html/2503.00144v1</td>\n",
              "      <td>\\n\\n2.0.1 Learner-System Control Dynamics.\\n\\n...</td>\n",
              "    </tr>\n",
              "    <tr>\n",
              "      <th>0</th>\n",
              "      <td>https://arxiv.org/html/2503.00144v1</td>\n",
              "      <td>\\n\\n2.0.2 Participatory Design in Educational ...</td>\n",
              "    </tr>\n",
              "    <tr>\n",
              "      <th>0</th>\n",
              "      <td>https://arxiv.org/html/2503.00144v1</td>\n",
              "      <td>\\n\\n3 Participatory Design with Learners and I...</td>\n",
              "    </tr>\n",
              "  </tbody>\n",
              "</table>\n",
              "</div>\n",
              "    <div class=\"colab-df-buttons\">\n",
              "\n",
              "  <div class=\"colab-df-container\">\n",
              "    <button class=\"colab-df-convert\" onclick=\"convertToInteractive('df-93abf13a-1b14-4ba6-8dcc-f8f728d27e89')\"\n",
              "            title=\"Convert this dataframe to an interactive table.\"\n",
              "            style=\"display:none;\">\n",
              "\n",
              "  <svg xmlns=\"http://www.w3.org/2000/svg\" height=\"24px\" viewBox=\"0 -960 960 960\">\n",
              "    <path d=\"M120-120v-720h720v720H120Zm60-500h600v-160H180v160Zm220 220h160v-160H400v160Zm0 220h160v-160H400v160ZM180-400h160v-160H180v160Zm440 0h160v-160H620v160ZM180-180h160v-160H180v160Zm440 0h160v-160H620v160Z\"/>\n",
              "  </svg>\n",
              "    </button>\n",
              "\n",
              "  <style>\n",
              "    .colab-df-container {\n",
              "      display:flex;\n",
              "      gap: 12px;\n",
              "    }\n",
              "\n",
              "    .colab-df-convert {\n",
              "      background-color: #E8F0FE;\n",
              "      border: none;\n",
              "      border-radius: 50%;\n",
              "      cursor: pointer;\n",
              "      display: none;\n",
              "      fill: #1967D2;\n",
              "      height: 32px;\n",
              "      padding: 0 0 0 0;\n",
              "      width: 32px;\n",
              "    }\n",
              "\n",
              "    .colab-df-convert:hover {\n",
              "      background-color: #E2EBFA;\n",
              "      box-shadow: 0px 1px 2px rgba(60, 64, 67, 0.3), 0px 1px 3px 1px rgba(60, 64, 67, 0.15);\n",
              "      fill: #174EA6;\n",
              "    }\n",
              "\n",
              "    .colab-df-buttons div {\n",
              "      margin-bottom: 4px;\n",
              "    }\n",
              "\n",
              "    [theme=dark] .colab-df-convert {\n",
              "      background-color: #3B4455;\n",
              "      fill: #D2E3FC;\n",
              "    }\n",
              "\n",
              "    [theme=dark] .colab-df-convert:hover {\n",
              "      background-color: #434B5C;\n",
              "      box-shadow: 0px 1px 3px 1px rgba(0, 0, 0, 0.15);\n",
              "      filter: drop-shadow(0px 1px 2px rgba(0, 0, 0, 0.3));\n",
              "      fill: #FFFFFF;\n",
              "    }\n",
              "  </style>\n",
              "\n",
              "    <script>\n",
              "      const buttonEl =\n",
              "        document.querySelector('#df-93abf13a-1b14-4ba6-8dcc-f8f728d27e89 button.colab-df-convert');\n",
              "      buttonEl.style.display =\n",
              "        google.colab.kernel.accessAllowed ? 'block' : 'none';\n",
              "\n",
              "      async function convertToInteractive(key) {\n",
              "        const element = document.querySelector('#df-93abf13a-1b14-4ba6-8dcc-f8f728d27e89');\n",
              "        const dataTable =\n",
              "          await google.colab.kernel.invokeFunction('convertToInteractive',\n",
              "                                                    [key], {});\n",
              "        if (!dataTable) return;\n",
              "\n",
              "        const docLinkHtml = 'Like what you see? Visit the ' +\n",
              "          '<a target=\"_blank\" href=https://colab.research.google.com/notebooks/data_table.ipynb>data table notebook</a>'\n",
              "          + ' to learn more about interactive tables.';\n",
              "        element.innerHTML = '';\n",
              "        dataTable['output_type'] = 'display_data';\n",
              "        await google.colab.output.renderOutput(dataTable, element);\n",
              "        const docLink = document.createElement('div');\n",
              "        docLink.innerHTML = docLinkHtml;\n",
              "        element.appendChild(docLink);\n",
              "      }\n",
              "    </script>\n",
              "  </div>\n",
              "\n",
              "\n",
              "<div id=\"df-d7e41386-05f1-472c-9d6f-a2bb554b621c\">\n",
              "  <button class=\"colab-df-quickchart\" onclick=\"quickchart('df-d7e41386-05f1-472c-9d6f-a2bb554b621c')\"\n",
              "            title=\"Suggest charts\"\n",
              "            style=\"display:none;\">\n",
              "\n",
              "<svg xmlns=\"http://www.w3.org/2000/svg\" height=\"24px\"viewBox=\"0 0 24 24\"\n",
              "     width=\"24px\">\n",
              "    <g>\n",
              "        <path d=\"M19 3H5c-1.1 0-2 .9-2 2v14c0 1.1.9 2 2 2h14c1.1 0 2-.9 2-2V5c0-1.1-.9-2-2-2zM9 17H7v-7h2v7zm4 0h-2V7h2v10zm4 0h-2v-4h2v4z\"/>\n",
              "    </g>\n",
              "</svg>\n",
              "  </button>\n",
              "\n",
              "<style>\n",
              "  .colab-df-quickchart {\n",
              "      --bg-color: #E8F0FE;\n",
              "      --fill-color: #1967D2;\n",
              "      --hover-bg-color: #E2EBFA;\n",
              "      --hover-fill-color: #174EA6;\n",
              "      --disabled-fill-color: #AAA;\n",
              "      --disabled-bg-color: #DDD;\n",
              "  }\n",
              "\n",
              "  [theme=dark] .colab-df-quickchart {\n",
              "      --bg-color: #3B4455;\n",
              "      --fill-color: #D2E3FC;\n",
              "      --hover-bg-color: #434B5C;\n",
              "      --hover-fill-color: #FFFFFF;\n",
              "      --disabled-bg-color: #3B4455;\n",
              "      --disabled-fill-color: #666;\n",
              "  }\n",
              "\n",
              "  .colab-df-quickchart {\n",
              "    background-color: var(--bg-color);\n",
              "    border: none;\n",
              "    border-radius: 50%;\n",
              "    cursor: pointer;\n",
              "    display: none;\n",
              "    fill: var(--fill-color);\n",
              "    height: 32px;\n",
              "    padding: 0;\n",
              "    width: 32px;\n",
              "  }\n",
              "\n",
              "  .colab-df-quickchart:hover {\n",
              "    background-color: var(--hover-bg-color);\n",
              "    box-shadow: 0 1px 2px rgba(60, 64, 67, 0.3), 0 1px 3px 1px rgba(60, 64, 67, 0.15);\n",
              "    fill: var(--button-hover-fill-color);\n",
              "  }\n",
              "\n",
              "  .colab-df-quickchart-complete:disabled,\n",
              "  .colab-df-quickchart-complete:disabled:hover {\n",
              "    background-color: var(--disabled-bg-color);\n",
              "    fill: var(--disabled-fill-color);\n",
              "    box-shadow: none;\n",
              "  }\n",
              "\n",
              "  .colab-df-spinner {\n",
              "    border: 2px solid var(--fill-color);\n",
              "    border-color: transparent;\n",
              "    border-bottom-color: var(--fill-color);\n",
              "    animation:\n",
              "      spin 1s steps(1) infinite;\n",
              "  }\n",
              "\n",
              "  @keyframes spin {\n",
              "    0% {\n",
              "      border-color: transparent;\n",
              "      border-bottom-color: var(--fill-color);\n",
              "      border-left-color: var(--fill-color);\n",
              "    }\n",
              "    20% {\n",
              "      border-color: transparent;\n",
              "      border-left-color: var(--fill-color);\n",
              "      border-top-color: var(--fill-color);\n",
              "    }\n",
              "    30% {\n",
              "      border-color: transparent;\n",
              "      border-left-color: var(--fill-color);\n",
              "      border-top-color: var(--fill-color);\n",
              "      border-right-color: var(--fill-color);\n",
              "    }\n",
              "    40% {\n",
              "      border-color: transparent;\n",
              "      border-right-color: var(--fill-color);\n",
              "      border-top-color: var(--fill-color);\n",
              "    }\n",
              "    60% {\n",
              "      border-color: transparent;\n",
              "      border-right-color: var(--fill-color);\n",
              "    }\n",
              "    80% {\n",
              "      border-color: transparent;\n",
              "      border-right-color: var(--fill-color);\n",
              "      border-bottom-color: var(--fill-color);\n",
              "    }\n",
              "    90% {\n",
              "      border-color: transparent;\n",
              "      border-bottom-color: var(--fill-color);\n",
              "    }\n",
              "  }\n",
              "</style>\n",
              "\n",
              "  <script>\n",
              "    async function quickchart(key) {\n",
              "      const quickchartButtonEl =\n",
              "        document.querySelector('#' + key + ' button');\n",
              "      quickchartButtonEl.disabled = true;  // To prevent multiple clicks.\n",
              "      quickchartButtonEl.classList.add('colab-df-spinner');\n",
              "      try {\n",
              "        const charts = await google.colab.kernel.invokeFunction(\n",
              "            'suggestCharts', [key], {});\n",
              "      } catch (error) {\n",
              "        console.error('Error during call to suggestCharts:', error);\n",
              "      }\n",
              "      quickchartButtonEl.classList.remove('colab-df-spinner');\n",
              "      quickchartButtonEl.classList.add('colab-df-quickchart-complete');\n",
              "    }\n",
              "    (() => {\n",
              "      let quickchartButtonEl =\n",
              "        document.querySelector('#df-d7e41386-05f1-472c-9d6f-a2bb554b621c button');\n",
              "      quickchartButtonEl.style.display =\n",
              "        google.colab.kernel.accessAllowed ? 'block' : 'none';\n",
              "    })();\n",
              "  </script>\n",
              "</div>\n",
              "\n",
              "    </div>\n",
              "  </div>\n"
            ],
            "application/vnd.google.colaboratory.intrinsic+json": {
              "type": "dataframe",
              "variable_name": "paragraphs",
              "summary": "{\n  \"name\": \"paragraphs\",\n  \"rows\": 1668,\n  \"fields\": [\n    {\n      \"column\": \"url\",\n      \"properties\": {\n        \"dtype\": \"category\",\n        \"num_unique_values\": 47,\n        \"samples\": [\n          \"https://arxiv.org/html/2503.02007v1\",\n          \"https://arxiv.org/html/2503.02637v1\",\n          \"https://arxiv.org/html/2503.01769v2\"\n        ],\n        \"semantic_type\": \"\",\n        \"description\": \"\"\n      }\n    },\n    {\n      \"column\": \"paragraph\",\n      \"properties\": {\n        \"dtype\": \"string\",\n        \"num_unique_values\": 1668,\n        \"samples\": [\n          \"\\n\\n2.1. Situational\\n\\nIn the context of geopolitical conflicts, \\u201ctrack 1 diplomacy\\u201d involving formal negotiations between governments is often supplemented or supplanted by \\u201cbackchannel\\u201d dialogue involving unofficial non-governmental representatives from each side. Such backchannel dialogues may involve government officials participating in an unofficial capacity (\\u201ctrack 1.5 diplomacy\\u201d) or may not involve governments at all (\\u201ctrack 2 diplomacy\\u201d) (montville1991track). Often, these dialogues provide a more open environment to build trust and discuss tough issues. Furthermore, they can enable cross-border communication when formal diplomatic channels are closed. Civil society peacebuilders typically play a significant role in convening and contributing to these dialogues.\\n\\n\\nIn early 2024, following the events of October 7th, 2023, and within the broader context of protracted asymmetrical conflict, tensions between Israeli and Palestinian peacebuilders had understandably intensified. Shaped not only by the recent escalation in violence, but also by decades of structural disparity, open hostility, and deep-seated mistrust, the substrate to discuss tough issues had grown fragile111We intentionally chose to use politically neutral language and not impose a characterization of the lived experiences of Palestinians and Israelis, including our own. This includes deliberately omitting certain terms, such as \\u201coccupation,\\u201d that have widely recognized legal and political significance under international law and are central to the lived experiences of many participants in this process. We believe it is consistent with the spirit of this work that any political positions conveyed by this otherwise-technical paper should not be ours, but those manifest in the points of common ground found among the peacebuilders who participated in this effort (Table 3).. In this context, we worked with the Alliance for Middle East Peace (ALLMEP) \\u2014 a network of civil society peacebuilders in the region \\u2014 with the goal of strengthening that substrate. This initiative sought to create a foundation for meaningful dialogue grounded in shared humanity and collective action. To this end, we sought to help peacebuilders find common ground. But the situation presented a few real-world challenges.\\n\\n\\n\\n\\n\\u2022\\n\\nLanguage: Peacebuilders\\u2019 native languages span Hebrew, Palestinian Arabic, and English. Beyond communication, language carries deep cultural and historical significance, where it has been a tool of identity and a subtext of power imbalance. It was crucial for inclusivity and legitimacy that participants could engage fully in their native languages. Additionally, the sensitivity of language in this context extends to word choices that may reflect deeply rooted political and cultural meanings.\\n\\n\\n\\n\\u2022\\n\\nTrust: Skepticism and mistrust, stemming from historical experiences of injustice, violence and prolonged conflict, posed significant barriers to engagement. This meant that before we could reasonably expect a willingness to participate in joint dialogue, we would need to elevate trust in good faith partnership. It also meant that the process itself would have to hold up to scrutiny that the \\u201cother side\\u201d did not have a mechanism to influence the results to their advantage.\\n\\n\\n\\n\\u2022\\n\\nAsymmetry: We expected that, by default, there would be an unequal number of representatives participating from each side, and that it would be not be in the spirit of inclusion to limit the number of participants from each side to achieve balance. It was crucial to design a process that accounted for structural asymmetries, ensuring that even with unequal representation, all \\u201csides\\u201d held equitable influence on the outcomes.\\n\\n\\n\\n\\n\",\n          \"\\n\\n6.0.2. Stylization\\n\\nTactStyle used two modules \\u2014 the color stylization module and the geometry stylization module to optimize both visual and tactile properties. As shown in Figure\\u00a03, TactStyle uses Style2Fab\\u00a0(Faruqi et\\u00a0al., 2023) for iterative color optimization. Here the model\\u2019s geometry is frozen, and the generative AI model modifies the color channels of the vertices to approximate the style in the image. Next, the geometry stylization module uses the modified image generation model to generate a heightfield using the texture image prompt provided by the user. This heighfield is applied on the model using the technique described in section \\u00a05.5. The completed model is rendered alongside the original model for review. Furthermore, the segmentation tool from Style2Fab\\u00a0(Faruqi et\\u00a0al., 2023) has been integrated into TactStyle. This allows the user to have multiple textures on the same model. For this, the user can segment the model through Style2Fab\\u2019s segmentation, and then apply TactStyle on individual segments.\\n\\n\",\n          \"\\n\\n5.3.2. Full-body Setup\\n\\n\\n\\n\\nFigure 5. Examples of equipment setup and stream layout in full-body setup (Image retrieved from (Mari Yume, 2023))\\n\\\\Description\\n\\n\\nThis figure shows examples of equipment setup and stream layout used for a full-body VTuber setup. The figure is divided into two parts: Left Side (Equipment Setup): This image features a person wearing equipment to control the avatar. The individual is equipped with a head-mounted VR display (HMD), motion trackers attached to their wrists, waist, knees, and ankles, and hand-held controllers in each hand. Right Side (Stream Layout): This shows the corresponding virtual avatar displayed on the stream. The avatar is a humanoid character with a youthful appearance, wearing a casual outfit with a hoodie and shorts. The avatar mimics the user\\u2019s full-body movements in real-time, reflecting the position of arms, legs, and body posture. The background is a virtual 3D space with blue block-like structures.\\n\\n\\n\\n\\nThe full-body setup is used by VTubers with 3D models, allowing them to showcase their entire avatar in a 3D space during streaming (Figure 5).\\nThis setup requires 3D-supported VTubing software, social VR platforms, or game engines.\\nAll participants with 3D models except P10 have experience with the full-body setup.\\nP1 and P8 primarily used this setup for their streams, while others occasionally switched to it depending on the content.\\n\\n\\nMotion capture suits facilitate the highest fidelity tracking, but not all participants purchased them due to their high cost.\\nVTubers typically used HMDs for head tracking, controllers for hand tracking, and motion trackers to track additional points such as waist and feet (Figure 5).\\nP1 and P8 used finger-tracking controllers to generate sophisticated finger animations.\\nIn addition, similar to macro keys, VTubers often map expressive animations to the buttons on VR controllers, allowing them to overcome physical limitations and express distinctive reactions at the right moment during the stream.\\nWearing an HMD prevents the iPhone\\u2019s face-tracking feature from working properly.\\nAs a remedy, VTubers rely on microphones to capture their speech and synchronize the avatar\\u2019s lip movements with their voice.\\nParticipants often preferred devices from the same manufacturer for easier setup.\\nHowever, P4 and P9 opted for a MixedVR setup, combining HMDs and motion trackers from different manufacturers to make use of their existing equipment.\\nA typical example is the combination of a Meta Quest HMD with HTC Vive motion trackers, as Meta does not manufacture its own motion trackers.\\nP9 noted the drawbacks of MixedVR setups, such as potential connection issues between devices leading to tracking errors and a more complex setup process.\\n\\n\"\n        ],\n        \"semantic_type\": \"\",\n        \"description\": \"\"\n      }\n    }\n  ]\n}"
            }
          },
          "metadata": {},
          "execution_count": 188
        }
      ]
    },
    {
      "cell_type": "code",
      "source": [
        "paragraphs.shape"
      ],
      "metadata": {
        "colab": {
          "base_uri": "https://localhost:8080/"
        },
        "id": "XAumxzrFwvvf",
        "outputId": "830e94fd-2a09-4ee7-befb-08fbf8e8f923"
      },
      "execution_count": 189,
      "outputs": [
        {
          "output_type": "execute_result",
          "data": {
            "text/plain": [
              "(1668, 2)"
            ]
          },
          "metadata": {},
          "execution_count": 189
        }
      ]
    },
    {
      "cell_type": "markdown",
      "source": [
        "\n",
        "# Embeddings"
      ],
      "metadata": {
        "id": "RzHRBKmPxy1p"
      }
    },
    {
      "cell_type": "code",
      "source": [
        "def get_embedding(texts, model='text-embedding-ada-002'):\n",
        "    text = [text.replace(\"\\n\", \" \") for text in texts]\n",
        "\n",
        "    return [res.embedding for res in client.embeddings.create(input = texts, model=model).data]"
      ],
      "metadata": {
        "id": "4Hf0HgN-0odF"
      },
      "execution_count": 190,
      "outputs": []
    },
    {
      "cell_type": "code",
      "source": [
        "batch_size=100\n",
        "embeddings = []\n",
        "for i in trange(0, len(paragraphs), batch_size):\n",
        "    embeddings.extend(get_embedding(paragraphs[\"paragraph\"].iloc[i:i+batch_size]))"
      ],
      "metadata": {
        "colab": {
          "base_uri": "https://localhost:8080/"
        },
        "id": "_XxMImcP0Gdo",
        "outputId": "d349407f-59cf-4a9e-82eb-4565e4c686c4"
      },
      "execution_count": 191,
      "outputs": [
        {
          "output_type": "stream",
          "name": "stderr",
          "text": [
            "100%|██████████| 17/17 [00:34<00:00,  2.04s/it]\n"
          ]
        }
      ]
    },
    {
      "cell_type": "code",
      "source": [
        "paragraphs[\"embedding\"] = embeddings\n",
        "paragraphs.head(2)"
      ],
      "metadata": {
        "colab": {
          "base_uri": "https://localhost:8080/",
          "height": 112
        },
        "id": "d1CuKHui4dG3",
        "outputId": "22614c44-4ce8-4e71-b456-1db17ce72ba4"
      },
      "execution_count": 192,
      "outputs": [
        {
          "output_type": "execute_result",
          "data": {
            "text/plain": [
              "                                   url  \\\n",
              "0  https://arxiv.org/html/2503.00144v1   \n",
              "0  https://arxiv.org/html/2503.00144v1   \n",
              "\n",
              "                                           paragraph  \\\n",
              "0  \\n\\n1 Introduction\\n\\nProgramming is an import...   \n",
              "0  \\n\\n2 Related Work\\n\\n\\n2.0.1 Learner-System C...   \n",
              "\n",
              "                                           embedding  \n",
              "0  [0.00459527550265193, -0.0004130418528802693, ...  \n",
              "0  [-0.0010354060214012861, -0.004327224101871252...  "
            ],
            "text/html": [
              "\n",
              "  <div id=\"df-419be1fc-0d53-424e-a0bf-f480c5132b8f\" class=\"colab-df-container\">\n",
              "    <div>\n",
              "<style scoped>\n",
              "    .dataframe tbody tr th:only-of-type {\n",
              "        vertical-align: middle;\n",
              "    }\n",
              "\n",
              "    .dataframe tbody tr th {\n",
              "        vertical-align: top;\n",
              "    }\n",
              "\n",
              "    .dataframe thead th {\n",
              "        text-align: right;\n",
              "    }\n",
              "</style>\n",
              "<table border=\"1\" class=\"dataframe\">\n",
              "  <thead>\n",
              "    <tr style=\"text-align: right;\">\n",
              "      <th></th>\n",
              "      <th>url</th>\n",
              "      <th>paragraph</th>\n",
              "      <th>embedding</th>\n",
              "    </tr>\n",
              "  </thead>\n",
              "  <tbody>\n",
              "    <tr>\n",
              "      <th>0</th>\n",
              "      <td>https://arxiv.org/html/2503.00144v1</td>\n",
              "      <td>\\n\\n1 Introduction\\n\\nProgramming is an import...</td>\n",
              "      <td>[0.00459527550265193, -0.0004130418528802693, ...</td>\n",
              "    </tr>\n",
              "    <tr>\n",
              "      <th>0</th>\n",
              "      <td>https://arxiv.org/html/2503.00144v1</td>\n",
              "      <td>\\n\\n2 Related Work\\n\\n\\n2.0.1 Learner-System C...</td>\n",
              "      <td>[-0.0010354060214012861, -0.004327224101871252...</td>\n",
              "    </tr>\n",
              "  </tbody>\n",
              "</table>\n",
              "</div>\n",
              "    <div class=\"colab-df-buttons\">\n",
              "\n",
              "  <div class=\"colab-df-container\">\n",
              "    <button class=\"colab-df-convert\" onclick=\"convertToInteractive('df-419be1fc-0d53-424e-a0bf-f480c5132b8f')\"\n",
              "            title=\"Convert this dataframe to an interactive table.\"\n",
              "            style=\"display:none;\">\n",
              "\n",
              "  <svg xmlns=\"http://www.w3.org/2000/svg\" height=\"24px\" viewBox=\"0 -960 960 960\">\n",
              "    <path d=\"M120-120v-720h720v720H120Zm60-500h600v-160H180v160Zm220 220h160v-160H400v160Zm0 220h160v-160H400v160ZM180-400h160v-160H180v160Zm440 0h160v-160H620v160ZM180-180h160v-160H180v160Zm440 0h160v-160H620v160Z\"/>\n",
              "  </svg>\n",
              "    </button>\n",
              "\n",
              "  <style>\n",
              "    .colab-df-container {\n",
              "      display:flex;\n",
              "      gap: 12px;\n",
              "    }\n",
              "\n",
              "    .colab-df-convert {\n",
              "      background-color: #E8F0FE;\n",
              "      border: none;\n",
              "      border-radius: 50%;\n",
              "      cursor: pointer;\n",
              "      display: none;\n",
              "      fill: #1967D2;\n",
              "      height: 32px;\n",
              "      padding: 0 0 0 0;\n",
              "      width: 32px;\n",
              "    }\n",
              "\n",
              "    .colab-df-convert:hover {\n",
              "      background-color: #E2EBFA;\n",
              "      box-shadow: 0px 1px 2px rgba(60, 64, 67, 0.3), 0px 1px 3px 1px rgba(60, 64, 67, 0.15);\n",
              "      fill: #174EA6;\n",
              "    }\n",
              "\n",
              "    .colab-df-buttons div {\n",
              "      margin-bottom: 4px;\n",
              "    }\n",
              "\n",
              "    [theme=dark] .colab-df-convert {\n",
              "      background-color: #3B4455;\n",
              "      fill: #D2E3FC;\n",
              "    }\n",
              "\n",
              "    [theme=dark] .colab-df-convert:hover {\n",
              "      background-color: #434B5C;\n",
              "      box-shadow: 0px 1px 3px 1px rgba(0, 0, 0, 0.15);\n",
              "      filter: drop-shadow(0px 1px 2px rgba(0, 0, 0, 0.3));\n",
              "      fill: #FFFFFF;\n",
              "    }\n",
              "  </style>\n",
              "\n",
              "    <script>\n",
              "      const buttonEl =\n",
              "        document.querySelector('#df-419be1fc-0d53-424e-a0bf-f480c5132b8f button.colab-df-convert');\n",
              "      buttonEl.style.display =\n",
              "        google.colab.kernel.accessAllowed ? 'block' : 'none';\n",
              "\n",
              "      async function convertToInteractive(key) {\n",
              "        const element = document.querySelector('#df-419be1fc-0d53-424e-a0bf-f480c5132b8f');\n",
              "        const dataTable =\n",
              "          await google.colab.kernel.invokeFunction('convertToInteractive',\n",
              "                                                    [key], {});\n",
              "        if (!dataTable) return;\n",
              "\n",
              "        const docLinkHtml = 'Like what you see? Visit the ' +\n",
              "          '<a target=\"_blank\" href=https://colab.research.google.com/notebooks/data_table.ipynb>data table notebook</a>'\n",
              "          + ' to learn more about interactive tables.';\n",
              "        element.innerHTML = '';\n",
              "        dataTable['output_type'] = 'display_data';\n",
              "        await google.colab.output.renderOutput(dataTable, element);\n",
              "        const docLink = document.createElement('div');\n",
              "        docLink.innerHTML = docLinkHtml;\n",
              "        element.appendChild(docLink);\n",
              "      }\n",
              "    </script>\n",
              "  </div>\n",
              "\n",
              "\n",
              "<div id=\"df-a8324217-46bd-4756-bb2b-d8b4c15f5b24\">\n",
              "  <button class=\"colab-df-quickchart\" onclick=\"quickchart('df-a8324217-46bd-4756-bb2b-d8b4c15f5b24')\"\n",
              "            title=\"Suggest charts\"\n",
              "            style=\"display:none;\">\n",
              "\n",
              "<svg xmlns=\"http://www.w3.org/2000/svg\" height=\"24px\"viewBox=\"0 0 24 24\"\n",
              "     width=\"24px\">\n",
              "    <g>\n",
              "        <path d=\"M19 3H5c-1.1 0-2 .9-2 2v14c0 1.1.9 2 2 2h14c1.1 0 2-.9 2-2V5c0-1.1-.9-2-2-2zM9 17H7v-7h2v7zm4 0h-2V7h2v10zm4 0h-2v-4h2v4z\"/>\n",
              "    </g>\n",
              "</svg>\n",
              "  </button>\n",
              "\n",
              "<style>\n",
              "  .colab-df-quickchart {\n",
              "      --bg-color: #E8F0FE;\n",
              "      --fill-color: #1967D2;\n",
              "      --hover-bg-color: #E2EBFA;\n",
              "      --hover-fill-color: #174EA6;\n",
              "      --disabled-fill-color: #AAA;\n",
              "      --disabled-bg-color: #DDD;\n",
              "  }\n",
              "\n",
              "  [theme=dark] .colab-df-quickchart {\n",
              "      --bg-color: #3B4455;\n",
              "      --fill-color: #D2E3FC;\n",
              "      --hover-bg-color: #434B5C;\n",
              "      --hover-fill-color: #FFFFFF;\n",
              "      --disabled-bg-color: #3B4455;\n",
              "      --disabled-fill-color: #666;\n",
              "  }\n",
              "\n",
              "  .colab-df-quickchart {\n",
              "    background-color: var(--bg-color);\n",
              "    border: none;\n",
              "    border-radius: 50%;\n",
              "    cursor: pointer;\n",
              "    display: none;\n",
              "    fill: var(--fill-color);\n",
              "    height: 32px;\n",
              "    padding: 0;\n",
              "    width: 32px;\n",
              "  }\n",
              "\n",
              "  .colab-df-quickchart:hover {\n",
              "    background-color: var(--hover-bg-color);\n",
              "    box-shadow: 0 1px 2px rgba(60, 64, 67, 0.3), 0 1px 3px 1px rgba(60, 64, 67, 0.15);\n",
              "    fill: var(--button-hover-fill-color);\n",
              "  }\n",
              "\n",
              "  .colab-df-quickchart-complete:disabled,\n",
              "  .colab-df-quickchart-complete:disabled:hover {\n",
              "    background-color: var(--disabled-bg-color);\n",
              "    fill: var(--disabled-fill-color);\n",
              "    box-shadow: none;\n",
              "  }\n",
              "\n",
              "  .colab-df-spinner {\n",
              "    border: 2px solid var(--fill-color);\n",
              "    border-color: transparent;\n",
              "    border-bottom-color: var(--fill-color);\n",
              "    animation:\n",
              "      spin 1s steps(1) infinite;\n",
              "  }\n",
              "\n",
              "  @keyframes spin {\n",
              "    0% {\n",
              "      border-color: transparent;\n",
              "      border-bottom-color: var(--fill-color);\n",
              "      border-left-color: var(--fill-color);\n",
              "    }\n",
              "    20% {\n",
              "      border-color: transparent;\n",
              "      border-left-color: var(--fill-color);\n",
              "      border-top-color: var(--fill-color);\n",
              "    }\n",
              "    30% {\n",
              "      border-color: transparent;\n",
              "      border-left-color: var(--fill-color);\n",
              "      border-top-color: var(--fill-color);\n",
              "      border-right-color: var(--fill-color);\n",
              "    }\n",
              "    40% {\n",
              "      border-color: transparent;\n",
              "      border-right-color: var(--fill-color);\n",
              "      border-top-color: var(--fill-color);\n",
              "    }\n",
              "    60% {\n",
              "      border-color: transparent;\n",
              "      border-right-color: var(--fill-color);\n",
              "    }\n",
              "    80% {\n",
              "      border-color: transparent;\n",
              "      border-right-color: var(--fill-color);\n",
              "      border-bottom-color: var(--fill-color);\n",
              "    }\n",
              "    90% {\n",
              "      border-color: transparent;\n",
              "      border-bottom-color: var(--fill-color);\n",
              "    }\n",
              "  }\n",
              "</style>\n",
              "\n",
              "  <script>\n",
              "    async function quickchart(key) {\n",
              "      const quickchartButtonEl =\n",
              "        document.querySelector('#' + key + ' button');\n",
              "      quickchartButtonEl.disabled = true;  // To prevent multiple clicks.\n",
              "      quickchartButtonEl.classList.add('colab-df-spinner');\n",
              "      try {\n",
              "        const charts = await google.colab.kernel.invokeFunction(\n",
              "            'suggestCharts', [key], {});\n",
              "      } catch (error) {\n",
              "        console.error('Error during call to suggestCharts:', error);\n",
              "      }\n",
              "      quickchartButtonEl.classList.remove('colab-df-spinner');\n",
              "      quickchartButtonEl.classList.add('colab-df-quickchart-complete');\n",
              "    }\n",
              "    (() => {\n",
              "      let quickchartButtonEl =\n",
              "        document.querySelector('#df-a8324217-46bd-4756-bb2b-d8b4c15f5b24 button');\n",
              "      quickchartButtonEl.style.display =\n",
              "        google.colab.kernel.accessAllowed ? 'block' : 'none';\n",
              "    })();\n",
              "  </script>\n",
              "</div>\n",
              "\n",
              "    </div>\n",
              "  </div>\n"
            ],
            "application/vnd.google.colaboratory.intrinsic+json": {
              "type": "dataframe",
              "variable_name": "paragraphs",
              "summary": "{\n  \"name\": \"paragraphs\",\n  \"rows\": 1668,\n  \"fields\": [\n    {\n      \"column\": \"url\",\n      \"properties\": {\n        \"dtype\": \"category\",\n        \"num_unique_values\": 47,\n        \"samples\": [\n          \"https://arxiv.org/html/2503.02007v1\",\n          \"https://arxiv.org/html/2503.02637v1\",\n          \"https://arxiv.org/html/2503.01769v2\"\n        ],\n        \"semantic_type\": \"\",\n        \"description\": \"\"\n      }\n    },\n    {\n      \"column\": \"paragraph\",\n      \"properties\": {\n        \"dtype\": \"string\",\n        \"num_unique_values\": 1668,\n        \"samples\": [\n          \"\\n\\n2.1. Situational\\n\\nIn the context of geopolitical conflicts, \\u201ctrack 1 diplomacy\\u201d involving formal negotiations between governments is often supplemented or supplanted by \\u201cbackchannel\\u201d dialogue involving unofficial non-governmental representatives from each side. Such backchannel dialogues may involve government officials participating in an unofficial capacity (\\u201ctrack 1.5 diplomacy\\u201d) or may not involve governments at all (\\u201ctrack 2 diplomacy\\u201d) (montville1991track). Often, these dialogues provide a more open environment to build trust and discuss tough issues. Furthermore, they can enable cross-border communication when formal diplomatic channels are closed. Civil society peacebuilders typically play a significant role in convening and contributing to these dialogues.\\n\\n\\nIn early 2024, following the events of October 7th, 2023, and within the broader context of protracted asymmetrical conflict, tensions between Israeli and Palestinian peacebuilders had understandably intensified. Shaped not only by the recent escalation in violence, but also by decades of structural disparity, open hostility, and deep-seated mistrust, the substrate to discuss tough issues had grown fragile111We intentionally chose to use politically neutral language and not impose a characterization of the lived experiences of Palestinians and Israelis, including our own. This includes deliberately omitting certain terms, such as \\u201coccupation,\\u201d that have widely recognized legal and political significance under international law and are central to the lived experiences of many participants in this process. We believe it is consistent with the spirit of this work that any political positions conveyed by this otherwise-technical paper should not be ours, but those manifest in the points of common ground found among the peacebuilders who participated in this effort (Table 3).. In this context, we worked with the Alliance for Middle East Peace (ALLMEP) \\u2014 a network of civil society peacebuilders in the region \\u2014 with the goal of strengthening that substrate. This initiative sought to create a foundation for meaningful dialogue grounded in shared humanity and collective action. To this end, we sought to help peacebuilders find common ground. But the situation presented a few real-world challenges.\\n\\n\\n\\n\\n\\u2022\\n\\nLanguage: Peacebuilders\\u2019 native languages span Hebrew, Palestinian Arabic, and English. Beyond communication, language carries deep cultural and historical significance, where it has been a tool of identity and a subtext of power imbalance. It was crucial for inclusivity and legitimacy that participants could engage fully in their native languages. Additionally, the sensitivity of language in this context extends to word choices that may reflect deeply rooted political and cultural meanings.\\n\\n\\n\\n\\u2022\\n\\nTrust: Skepticism and mistrust, stemming from historical experiences of injustice, violence and prolonged conflict, posed significant barriers to engagement. This meant that before we could reasonably expect a willingness to participate in joint dialogue, we would need to elevate trust in good faith partnership. It also meant that the process itself would have to hold up to scrutiny that the \\u201cother side\\u201d did not have a mechanism to influence the results to their advantage.\\n\\n\\n\\n\\u2022\\n\\nAsymmetry: We expected that, by default, there would be an unequal number of representatives participating from each side, and that it would be not be in the spirit of inclusion to limit the number of participants from each side to achieve balance. It was crucial to design a process that accounted for structural asymmetries, ensuring that even with unequal representation, all \\u201csides\\u201d held equitable influence on the outcomes.\\n\\n\\n\\n\\n\",\n          \"\\n\\n6.0.2. Stylization\\n\\nTactStyle used two modules \\u2014 the color stylization module and the geometry stylization module to optimize both visual and tactile properties. As shown in Figure\\u00a03, TactStyle uses Style2Fab\\u00a0(Faruqi et\\u00a0al., 2023) for iterative color optimization. Here the model\\u2019s geometry is frozen, and the generative AI model modifies the color channels of the vertices to approximate the style in the image. Next, the geometry stylization module uses the modified image generation model to generate a heightfield using the texture image prompt provided by the user. This heighfield is applied on the model using the technique described in section \\u00a05.5. The completed model is rendered alongside the original model for review. Furthermore, the segmentation tool from Style2Fab\\u00a0(Faruqi et\\u00a0al., 2023) has been integrated into TactStyle. This allows the user to have multiple textures on the same model. For this, the user can segment the model through Style2Fab\\u2019s segmentation, and then apply TactStyle on individual segments.\\n\\n\",\n          \"\\n\\n5.3.2. Full-body Setup\\n\\n\\n\\n\\nFigure 5. Examples of equipment setup and stream layout in full-body setup (Image retrieved from (Mari Yume, 2023))\\n\\\\Description\\n\\n\\nThis figure shows examples of equipment setup and stream layout used for a full-body VTuber setup. The figure is divided into two parts: Left Side (Equipment Setup): This image features a person wearing equipment to control the avatar. The individual is equipped with a head-mounted VR display (HMD), motion trackers attached to their wrists, waist, knees, and ankles, and hand-held controllers in each hand. Right Side (Stream Layout): This shows the corresponding virtual avatar displayed on the stream. The avatar is a humanoid character with a youthful appearance, wearing a casual outfit with a hoodie and shorts. The avatar mimics the user\\u2019s full-body movements in real-time, reflecting the position of arms, legs, and body posture. The background is a virtual 3D space with blue block-like structures.\\n\\n\\n\\n\\nThe full-body setup is used by VTubers with 3D models, allowing them to showcase their entire avatar in a 3D space during streaming (Figure 5).\\nThis setup requires 3D-supported VTubing software, social VR platforms, or game engines.\\nAll participants with 3D models except P10 have experience with the full-body setup.\\nP1 and P8 primarily used this setup for their streams, while others occasionally switched to it depending on the content.\\n\\n\\nMotion capture suits facilitate the highest fidelity tracking, but not all participants purchased them due to their high cost.\\nVTubers typically used HMDs for head tracking, controllers for hand tracking, and motion trackers to track additional points such as waist and feet (Figure 5).\\nP1 and P8 used finger-tracking controllers to generate sophisticated finger animations.\\nIn addition, similar to macro keys, VTubers often map expressive animations to the buttons on VR controllers, allowing them to overcome physical limitations and express distinctive reactions at the right moment during the stream.\\nWearing an HMD prevents the iPhone\\u2019s face-tracking feature from working properly.\\nAs a remedy, VTubers rely on microphones to capture their speech and synchronize the avatar\\u2019s lip movements with their voice.\\nParticipants often preferred devices from the same manufacturer for easier setup.\\nHowever, P4 and P9 opted for a MixedVR setup, combining HMDs and motion trackers from different manufacturers to make use of their existing equipment.\\nA typical example is the combination of a Meta Quest HMD with HTC Vive motion trackers, as Meta does not manufacture its own motion trackers.\\nP9 noted the drawbacks of MixedVR setups, such as potential connection issues between devices leading to tracking errors and a more complex setup process.\\n\\n\"\n        ],\n        \"semantic_type\": \"\",\n        \"description\": \"\"\n      }\n    },\n    {\n      \"column\": \"embedding\",\n      \"properties\": {\n        \"dtype\": \"object\",\n        \"semantic_type\": \"\",\n        \"description\": \"\"\n      }\n    }\n  ]\n}"
            }
          },
          "metadata": {},
          "execution_count": 192
        }
      ]
    },
    {
      "cell_type": "code",
      "source": [
        "query = \"What are the latest advancements in using LLMs for multimodal learning and human-computer interaction? Provide insights about how to improve retrieval systems using RAG and LangChain.\"\n",
        "query_embedding = get_embedding([query])[0]"
      ],
      "metadata": {
        "id": "JlMRf_Vg4rTr"
      },
      "execution_count": 193,
      "outputs": []
    },
    {
      "cell_type": "code",
      "source": [
        "best_idx = paragraphs['embedding'].map(lambda x: cosine_similarity([x], [query_embedding])[0][0]).idxmax()\n",
        "best_paragraph = paragraphs.iloc[best_idx]['paragraph']"
      ],
      "metadata": {
        "id": "RNr9gYqv46Of"
      },
      "execution_count": 194,
      "outputs": []
    },
    {
      "cell_type": "code",
      "source": [
        "best_paragraph"
      ],
      "metadata": {
        "colab": {
          "base_uri": "https://localhost:8080/",
          "height": 163
        },
        "id": "T_mDtBNm69Uo",
        "outputId": "dbf49732-7810-43a0-e755-7e2f9802eb63"
      },
      "execution_count": 195,
      "outputs": [
        {
          "output_type": "execute_result",
          "data": {
            "text/plain": [
              "'\\n\\n5.2.2 Preferred learner-system control model.\\n\\nFor the preferred learner-system control for the type of help, 39 (23%) learners preferred L (learner-controlled), 92 (53%) preferred L-S (mainly controlled by the learner), 34 (20%) preferred S-L (mainly controlled by the AI system), and only 7 (4%) chose S (AI-system-controlled).\\nThe preferences for learner-system control models for the level of help were similar, where 38 (22%) learners preferred the L model, 85 (49.4%) preferred L-S, 43 (25%) preferred S-L, and only 6 (3.5%) chose S.\\nBy assigning numerical values to these different learner-system control models (L: 0, L-S: 1, S-L: 2, S: 3), we performed a Pearson correlation between learners’ preferred model and their self-efficacy.\\nAt α=0.01𝛼0.01\\\\alpha=0.01italic_α = 0.01 level, We found a significant correlation between preferences for learner-system control models for the level of help (p = 0.008), which was weak negative (r=-0.20).\\nThis indicate that learners with higher self-efficacy desire more control for the level of help they receive from the AI system.\\nHowever, no statistically significant correlation was found between the preferred type of help with learners’ self-efficacy.\\n\\n'"
            ],
            "application/vnd.google.colaboratory.intrinsic+json": {
              "type": "string"
            }
          },
          "metadata": {},
          "execution_count": 195
        }
      ]
    },
    {
      "cell_type": "code",
      "source": [
        "prompt = (\n",
        "    \"Here's a piece of text:\\n\"+\n",
        "\n",
        "    best_paragraph + '\\n\\n' +\n",
        "    \"I have a question about this text: \"+ query+\n",
        "    \"Please answer in a short\"\n",
        "    )\n",
        "\n",
        "print(prompt)"
      ],
      "metadata": {
        "colab": {
          "base_uri": "https://localhost:8080/"
        },
        "id": "Hi6qGJvL7FZT",
        "outputId": "c935522e-8771-4c67-edbb-f87f589971e8"
      },
      "execution_count": 204,
      "outputs": [
        {
          "output_type": "stream",
          "name": "stdout",
          "text": [
            "Here's a piece of text:\n",
            "\n",
            "\n",
            "5.2.2 Preferred learner-system control model.\n",
            "\n",
            "For the preferred learner-system control for the type of help, 39 (23%) learners preferred L (learner-controlled), 92 (53%) preferred L-S (mainly controlled by the learner), 34 (20%) preferred S-L (mainly controlled by the AI system), and only 7 (4%) chose S (AI-system-controlled).\n",
            "The preferences for learner-system control models for the level of help were similar, where 38 (22%) learners preferred the L model, 85 (49.4%) preferred L-S, 43 (25%) preferred S-L, and only 6 (3.5%) chose S.\n",
            "By assigning numerical values to these different learner-system control models (L: 0, L-S: 1, S-L: 2, S: 3), we performed a Pearson correlation between learners’ preferred model and their self-efficacy.\n",
            "At α=0.01𝛼0.01\\alpha=0.01italic_α = 0.01 level, We found a significant correlation between preferences for learner-system control models for the level of help (p = 0.008), which was weak negative (r=-0.20).\n",
            "This indicate that learners with higher self-efficacy desire more control for the level of help they receive from the AI system.\n",
            "However, no statistically significant correlation was found between the preferred type of help with learners’ self-efficacy.\n",
            "\n",
            "\n",
            "\n",
            "I have a question about this text: What are the latest advancements in using LLMs for multimodal learning and human-computer interaction? Provide insights about how to improve retrieval systems using RAG and LangChain.Please answer in a short\n"
          ]
        }
      ]
    },
    {
      "cell_type": "code",
      "source": [
        "gpt  = client.chat.completions.create(\n",
        "    model=\"gpt-3.5-turbo\",\n",
        "    messages=[\n",
        "        {\"role\": \"system\", \"content\": \"You are a helpful assistant.\"},\n",
        "        {\"role\": \"user\", \"content\": prompt}\n",
        "    ]\n",
        ")\n",
        "\n",
        "gpt.choices[0].message.content"
      ],
      "metadata": {
        "colab": {
          "base_uri": "https://localhost:8080/",
          "height": 127
        },
        "id": "5U9VK2RU26bP",
        "outputId": "4970bafe-9acb-4606-f830-1067bd0a2a6f"
      },
      "execution_count": 205,
      "outputs": [
        {
          "output_type": "execute_result",
          "data": {
            "text/plain": [
              "'The latest advancements in using Large Language Models (LLMs) for multimodal learning and human-computer interaction include leveraging transformer-based models like GPT-3 and CLIP to handle multiple modalities such as text, images, and audio simultaneously. These models enable more natural and intuitive interactions between users and machines. To improve retrieval systems using tools like Retrieval-Augmented Generation (RAG) and LangChain, one can enhance system capabilities by incorporating diverse datasets, fine-tuning the models for specific tasks, and exploring innovative ways to combine retrieval and generation techniques for more accurate and efficient information retrieval.'"
            ],
            "application/vnd.google.colaboratory.intrinsic+json": {
              "type": "string"
            }
          },
          "metadata": {},
          "execution_count": 205
        }
      ]
    },
    {
      "cell_type": "code",
      "source": [],
      "metadata": {
        "id": "Zu9JRgT93XY3"
      },
      "execution_count": null,
      "outputs": []
    }
  ]
}